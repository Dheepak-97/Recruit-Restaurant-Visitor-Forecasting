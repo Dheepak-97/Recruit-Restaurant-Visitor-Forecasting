{
 "cells": [
  {
   "cell_type": "code",
   "execution_count": 100,
   "metadata": {},
   "outputs": [],
   "source": [
    "library(dplyr)\n",
    "library(ggplot2)\n",
    "library(forecast)\n",
    "library(gridExtra)\n",
    "library(lubridate)\n",
    "library(gbm)\n",
    "library(quantmod)\n",
    "library(rpart)\n",
    "library(rpart.plot)\n",
    "library(randomForest)"
   ]
  },
  {
   "cell_type": "markdown",
   "metadata": {},
   "source": [
    "## **Reservation Websites:**\n",
    "\n",
    "1. Hpg -> Hot Pepper Gourmet\n",
    "<br>\n",
    "2. air -> AirREGI"
   ]
  },
  {
   "cell_type": "code",
   "execution_count": 3,
   "metadata": {},
   "outputs": [],
   "source": [
    "air_visit_data <- read.csv('air_visit_data.csv')\n",
    "air_reserve <- read.csv('air_reserve.csv')\n",
    "air_store_info <- read.csv('air_store_info.csv') #done\n",
    "date_info <- read.csv('date_info.csv') # done\n",
    "sample_submission <- read.csv('sample_submission.csv')\n",
    "store_id_relation <- read.csv('store_id_relation.csv')"
   ]
  },
  {
   "cell_type": "code",
   "execution_count": 4,
   "metadata": {
    "scrolled": true
   },
   "outputs": [
    {
     "data": {
      "text/html": [
       "<table>\n",
       "<thead><tr><th scope=col>air_store_id</th><th scope=col>visit_date</th><th scope=col>visitors</th></tr></thead>\n",
       "<tbody>\n",
       "\t<tr><td>air_ba937bf13d40fb24</td><td>2016-01-13          </td><td>25                  </td></tr>\n",
       "\t<tr><td>air_ba937bf13d40fb24</td><td>2016-01-14          </td><td>32                  </td></tr>\n",
       "\t<tr><td>air_ba937bf13d40fb24</td><td>2016-01-15          </td><td>29                  </td></tr>\n",
       "\t<tr><td>air_ba937bf13d40fb24</td><td>2016-01-16          </td><td>22                  </td></tr>\n",
       "\t<tr><td>air_ba937bf13d40fb24</td><td>2016-01-18          </td><td> 6                  </td></tr>\n",
       "\t<tr><td>air_ba937bf13d40fb24</td><td>2016-01-19          </td><td> 9                  </td></tr>\n",
       "</tbody>\n",
       "</table>\n"
      ],
      "text/latex": [
       "\\begin{tabular}{r|lll}\n",
       " air\\_store\\_id & visit\\_date & visitors\\\\\n",
       "\\hline\n",
       "\t air\\_ba937bf13d40fb24 & 2016-01-13             & 25                    \\\\\n",
       "\t air\\_ba937bf13d40fb24 & 2016-01-14             & 32                    \\\\\n",
       "\t air\\_ba937bf13d40fb24 & 2016-01-15             & 29                    \\\\\n",
       "\t air\\_ba937bf13d40fb24 & 2016-01-16             & 22                    \\\\\n",
       "\t air\\_ba937bf13d40fb24 & 2016-01-18             &  6                    \\\\\n",
       "\t air\\_ba937bf13d40fb24 & 2016-01-19             &  9                    \\\\\n",
       "\\end{tabular}\n"
      ],
      "text/markdown": [
       "\n",
       "| air_store_id | visit_date | visitors |\n",
       "|---|---|---|\n",
       "| air_ba937bf13d40fb24 | 2016-01-13           | 25                   |\n",
       "| air_ba937bf13d40fb24 | 2016-01-14           | 32                   |\n",
       "| air_ba937bf13d40fb24 | 2016-01-15           | 29                   |\n",
       "| air_ba937bf13d40fb24 | 2016-01-16           | 22                   |\n",
       "| air_ba937bf13d40fb24 | 2016-01-18           |  6                   |\n",
       "| air_ba937bf13d40fb24 | 2016-01-19           |  9                   |\n",
       "\n"
      ],
      "text/plain": [
       "  air_store_id         visit_date visitors\n",
       "1 air_ba937bf13d40fb24 2016-01-13 25      \n",
       "2 air_ba937bf13d40fb24 2016-01-14 32      \n",
       "3 air_ba937bf13d40fb24 2016-01-15 29      \n",
       "4 air_ba937bf13d40fb24 2016-01-16 22      \n",
       "5 air_ba937bf13d40fb24 2016-01-18  6      \n",
       "6 air_ba937bf13d40fb24 2016-01-19  9      "
      ]
     },
     "metadata": {},
     "output_type": "display_data"
    },
    {
     "name": "stdout",
     "output_type": "stream",
     "text": [
      "'data.frame':\t252108 obs. of  3 variables:\n",
      " $ air_store_id: Factor w/ 829 levels \"air_00a91d42b08b08d9\",..: 604 604 604 604 604 604 604 604 604 604 ...\n",
      " $ visit_date  : Factor w/ 478 levels \"2016-01-01\",\"2016-01-02\",..: 13 14 15 16 18 19 20 21 22 23 ...\n",
      " $ visitors    : int  25 32 29 22 6 9 31 21 18 26 ...\n"
     ]
    }
   ],
   "source": [
    "head(air_visit_data)\n",
    "str(air_visit_data)"
   ]
  },
  {
   "cell_type": "code",
   "execution_count": 5,
   "metadata": {
    "scrolled": true
   },
   "outputs": [
    {
     "data": {
      "text/plain": [
       "               air_store_id         visit_date        visitors     \n",
       " air_5c817ef28f236bdf:   477   2017-03-17:   799   Min.   :  1.00  \n",
       " air_36bcf77d3382d36e:   476   2017-03-03:   791   1st Qu.:  9.00  \n",
       " air_a083834e7ffe187e:   476   2017-04-14:   791   Median : 17.00  \n",
       " air_d97dabf7aae60da5:   476   2017-03-24:   789   Mean   : 20.97  \n",
       " air_232dcee6f7c51d37:   475   2017-03-31:   786   3rd Qu.: 29.00  \n",
       " air_60a7057184ec7ec7:   475   2017-04-21:   784   Max.   :877.00  \n",
       " (Other)             :249253   (Other)   :247368                   "
      ]
     },
     "metadata": {},
     "output_type": "display_data"
    }
   ],
   "source": [
    "summary(air_visit_data)"
   ]
  },
  {
   "cell_type": "code",
   "execution_count": 6,
   "metadata": {
    "scrolled": false
   },
   "outputs": [
    {
     "data": {
      "text/html": [
       "<table>\n",
       "<thead><tr><th scope=col>air_store_id</th><th scope=col>visit_datetime</th><th scope=col>reserve_datetime</th><th scope=col>reserve_visitors</th></tr></thead>\n",
       "<tbody>\n",
       "\t<tr><td>air_877f79706adbfb06</td><td>2016-01-01 19:00:00 </td><td>2016-01-01 16:00:00 </td><td>1                   </td></tr>\n",
       "\t<tr><td>air_db4b38ebe7a7ceff</td><td>2016-01-01 19:00:00 </td><td>2016-01-01 19:00:00 </td><td>3                   </td></tr>\n",
       "\t<tr><td>air_db4b38ebe7a7ceff</td><td>2016-01-01 19:00:00 </td><td>2016-01-01 19:00:00 </td><td>6                   </td></tr>\n",
       "\t<tr><td>air_877f79706adbfb06</td><td>2016-01-01 20:00:00 </td><td>2016-01-01 16:00:00 </td><td>2                   </td></tr>\n",
       "\t<tr><td>air_db80363d35f10926</td><td>2016-01-01 20:00:00 </td><td>2016-01-01 01:00:00 </td><td>5                   </td></tr>\n",
       "\t<tr><td>air_db80363d35f10926</td><td>2016-01-02 01:00:00 </td><td>2016-01-01 16:00:00 </td><td>2                   </td></tr>\n",
       "</tbody>\n",
       "</table>\n"
      ],
      "text/latex": [
       "\\begin{tabular}{r|llll}\n",
       " air\\_store\\_id & visit\\_datetime & reserve\\_datetime & reserve\\_visitors\\\\\n",
       "\\hline\n",
       "\t air\\_877f79706adbfb06 & 2016-01-01 19:00:00    & 2016-01-01 16:00:00    & 1                     \\\\\n",
       "\t air\\_db4b38ebe7a7ceff & 2016-01-01 19:00:00    & 2016-01-01 19:00:00    & 3                     \\\\\n",
       "\t air\\_db4b38ebe7a7ceff & 2016-01-01 19:00:00    & 2016-01-01 19:00:00    & 6                     \\\\\n",
       "\t air\\_877f79706adbfb06 & 2016-01-01 20:00:00    & 2016-01-01 16:00:00    & 2                     \\\\\n",
       "\t air\\_db80363d35f10926 & 2016-01-01 20:00:00    & 2016-01-01 01:00:00    & 5                     \\\\\n",
       "\t air\\_db80363d35f10926 & 2016-01-02 01:00:00    & 2016-01-01 16:00:00    & 2                     \\\\\n",
       "\\end{tabular}\n"
      ],
      "text/markdown": [
       "\n",
       "| air_store_id | visit_datetime | reserve_datetime | reserve_visitors |\n",
       "|---|---|---|---|\n",
       "| air_877f79706adbfb06 | 2016-01-01 19:00:00  | 2016-01-01 16:00:00  | 1                    |\n",
       "| air_db4b38ebe7a7ceff | 2016-01-01 19:00:00  | 2016-01-01 19:00:00  | 3                    |\n",
       "| air_db4b38ebe7a7ceff | 2016-01-01 19:00:00  | 2016-01-01 19:00:00  | 6                    |\n",
       "| air_877f79706adbfb06 | 2016-01-01 20:00:00  | 2016-01-01 16:00:00  | 2                    |\n",
       "| air_db80363d35f10926 | 2016-01-01 20:00:00  | 2016-01-01 01:00:00  | 5                    |\n",
       "| air_db80363d35f10926 | 2016-01-02 01:00:00  | 2016-01-01 16:00:00  | 2                    |\n",
       "\n"
      ],
      "text/plain": [
       "  air_store_id         visit_datetime      reserve_datetime    reserve_visitors\n",
       "1 air_877f79706adbfb06 2016-01-01 19:00:00 2016-01-01 16:00:00 1               \n",
       "2 air_db4b38ebe7a7ceff 2016-01-01 19:00:00 2016-01-01 19:00:00 3               \n",
       "3 air_db4b38ebe7a7ceff 2016-01-01 19:00:00 2016-01-01 19:00:00 6               \n",
       "4 air_877f79706adbfb06 2016-01-01 20:00:00 2016-01-01 16:00:00 2               \n",
       "5 air_db80363d35f10926 2016-01-01 20:00:00 2016-01-01 01:00:00 5               \n",
       "6 air_db80363d35f10926 2016-01-02 01:00:00 2016-01-01 16:00:00 2               "
      ]
     },
     "metadata": {},
     "output_type": "display_data"
    },
    {
     "name": "stdout",
     "output_type": "stream",
     "text": [
      "'data.frame':\t92378 obs. of  4 variables:\n",
      " $ air_store_id    : Factor w/ 314 levels \"air_00a91d42b08b08d9\",..: 168 270 270 168 271 271 271 72 72 49 ...\n",
      " $ visit_datetime  : Factor w/ 4975 levels \"2016-01-01 19:00:00\",..: 1 1 1 2 2 3 3 4 4 5 ...\n",
      " $ reserve_datetime: Factor w/ 7513 levels \"2016-01-01 01:00:00\",..: 6 8 8 6 1 6 5 17 9 20 ...\n",
      " $ reserve_visitors: int  1 3 6 2 5 2 4 2 2 2 ...\n"
     ]
    }
   ],
   "source": [
    "head(air_reserve)\n",
    "str(air_reserve)"
   ]
  },
  {
   "cell_type": "code",
   "execution_count": 7,
   "metadata": {},
   "outputs": [],
   "source": [
    "air_reserve$visit_date <- as.Date(air_reserve$visit_datetime)\n",
    "air_reserve$reserve_visitors_air <- air_reserve$reserve_visitors\n",
    "air_reserve$visit_datetime_air <- air_reserve$visit_datetime\n",
    "air_reserve$reserve_datetime_air <- air_reserve$reserve_datetime\n",
    "air_reserve$reserve_visitors <-NULL\n",
    "air_reserve$visit_datetime <-NULL\n",
    "air_reserve$reserve_datetime <-NULL"
   ]
  },
  {
   "cell_type": "code",
   "execution_count": 8,
   "metadata": {},
   "outputs": [
    {
     "name": "stdout",
     "output_type": "stream",
     "text": [
      "'data.frame':\t92378 obs. of  5 variables:\n",
      " $ air_store_id        : Factor w/ 314 levels \"air_00a91d42b08b08d9\",..: 168 270 270 168 271 271 271 72 72 49 ...\n",
      " $ visit_date          : Date, format: \"2016-01-01\" \"2016-01-01\" ...\n",
      " $ reserve_visitors_air: int  1 3 6 2 5 2 4 2 2 2 ...\n",
      " $ visit_datetime_air  : Factor w/ 4975 levels \"2016-01-01 19:00:00\",..: 1 1 1 2 2 3 3 4 4 5 ...\n",
      " $ reserve_datetime_air: Factor w/ 7513 levels \"2016-01-01 01:00:00\",..: 6 8 8 6 1 6 5 17 9 20 ...\n"
     ]
    }
   ],
   "source": [
    "str(air_reserve)"
   ]
  },
  {
   "cell_type": "code",
   "execution_count": 9,
   "metadata": {},
   "outputs": [
    {
     "data": {
      "text/html": [
       "<table>\n",
       "<thead><tr><th scope=col>air_store_id</th><th scope=col>air_genre_name</th><th scope=col>air_area_name</th></tr></thead>\n",
       "<tbody>\n",
       "\t<tr><td>air_0f0cdeee6c9bf3d7           </td><td>Italian/French                 </td><td>HyÅgo-ken KÅbe-shi KumoidÅri</td></tr>\n",
       "\t<tr><td>air_7cc17a324ae5c7dc           </td><td>Italian/French                 </td><td>HyÅgo-ken KÅbe-shi KumoidÅri</td></tr>\n",
       "\t<tr><td>air_fee8dcf4d619598e           </td><td>Italian/French                 </td><td>HyÅgo-ken KÅbe-shi KumoidÅri</td></tr>\n",
       "\t<tr><td>air_a17f0778617c76e2           </td><td>Italian/French                 </td><td>HyÅgo-ken KÅbe-shi KumoidÅri</td></tr>\n",
       "\t<tr><td>air_83db5aff8f50478e           </td><td>Italian/French                 </td><td>TÅkyÅ-to Minato-ku ShibakÅen</td></tr>\n",
       "\t<tr><td>air_99c3eae84130c1cb           </td><td>Italian/French                 </td><td>TÅkyÅ-to Minato-ku ShibakÅen</td></tr>\n",
       "</tbody>\n",
       "</table>\n"
      ],
      "text/latex": [
       "\\begin{tabular}{r|lll}\n",
       " air\\_store\\_id & air\\_genre\\_name & air\\_area\\_name\\\\\n",
       "\\hline\n",
       "\t air\\_0f0cdeee6c9bf3d7          & Italian/French                  & HyÅgo-ken KÅbe-shi KumoidÅri\\\\\n",
       "\t air\\_7cc17a324ae5c7dc          & Italian/French                  & HyÅgo-ken KÅbe-shi KumoidÅri\\\\\n",
       "\t air\\_fee8dcf4d619598e          & Italian/French                  & HyÅgo-ken KÅbe-shi KumoidÅri\\\\\n",
       "\t air\\_a17f0778617c76e2          & Italian/French                  & HyÅgo-ken KÅbe-shi KumoidÅri\\\\\n",
       "\t air\\_83db5aff8f50478e          & Italian/French                  & TÅkyÅ-to Minato-ku ShibakÅen\\\\\n",
       "\t air\\_99c3eae84130c1cb          & Italian/French                  & TÅkyÅ-to Minato-ku ShibakÅen\\\\\n",
       "\\end{tabular}\n"
      ],
      "text/markdown": [
       "\n",
       "| air_store_id | air_genre_name | air_area_name |\n",
       "|---|---|---|\n",
       "| air_0f0cdeee6c9bf3d7            | Italian/French                  | HyÅgo-ken KÅbe-shi KumoidÅri |\n",
       "| air_7cc17a324ae5c7dc            | Italian/French                  | HyÅgo-ken KÅbe-shi KumoidÅri |\n",
       "| air_fee8dcf4d619598e            | Italian/French                  | HyÅgo-ken KÅbe-shi KumoidÅri |\n",
       "| air_a17f0778617c76e2            | Italian/French                  | HyÅgo-ken KÅbe-shi KumoidÅri |\n",
       "| air_83db5aff8f50478e            | Italian/French                  | TÅkyÅ-to Minato-ku ShibakÅen |\n",
       "| air_99c3eae84130c1cb            | Italian/French                  | TÅkyÅ-to Minato-ku ShibakÅen |\n",
       "\n"
      ],
      "text/plain": [
       "  air_store_id         air_genre_name air_area_name                  \n",
       "1 air_0f0cdeee6c9bf3d7 Italian/French HyÅ\\215go-ken KÅ\\215be-shi KumoidÅ\\215ri\n",
       "2 air_7cc17a324ae5c7dc Italian/French HyÅ\\215go-ken KÅ\\215be-shi KumoidÅ\\215ri\n",
       "3 air_fee8dcf4d619598e Italian/French HyÅ\\215go-ken KÅ\\215be-shi KumoidÅ\\215ri\n",
       "4 air_a17f0778617c76e2 Italian/French HyÅ\\215go-ken KÅ\\215be-shi KumoidÅ\\215ri\n",
       "5 air_83db5aff8f50478e Italian/French TÅ\\215kyÅ\\215-to Minato-ku ShibakÅ\\215en\n",
       "6 air_99c3eae84130c1cb Italian/French TÅ\\215kyÅ\\215-to Minato-ku ShibakÅ\\215en"
      ]
     },
     "metadata": {},
     "output_type": "display_data"
    },
    {
     "name": "stdout",
     "output_type": "stream",
     "text": [
      "'data.frame':\t829 obs. of  3 variables:\n",
      " $ air_store_id  : Factor w/ 829 levels \"air_00a91d42b08b08d9\",..: 43 391 826 528 413 500 789 342 32 131 ...\n",
      " $ air_genre_name: Factor w/ 14 levels \"Asian\",\"Bar/Cocktail\",..: 7 7 7 7 7 7 7 7 7 7 ...\n",
      " $ air_area_name : Factor w/ 103 levels \"ÅŒsaka-fu ÅŒsaka-shi ÅŒgimachi\",..: 39 39 39 39 77 77 77 77 77 77 ...\n"
     ]
    }
   ],
   "source": [
    "air_store_info$latitude <- NULL\n",
    "air_store_info$longitude <- NULL\n",
    "head(air_store_info)\n",
    "str(air_store_info)"
   ]
  },
  {
   "cell_type": "code",
   "execution_count": 10,
   "metadata": {},
   "outputs": [
    {
     "data": {
      "text/html": [
       "<table>\n",
       "<thead><tr><th scope=col>calendar_date</th><th scope=col>day_of_week</th><th scope=col>holiday_flg</th></tr></thead>\n",
       "<tbody>\n",
       "\t<tr><td>2016-01-01</td><td>Friday    </td><td>1         </td></tr>\n",
       "\t<tr><td>2016-01-02</td><td>Saturday  </td><td>1         </td></tr>\n",
       "\t<tr><td>2016-01-03</td><td>Sunday    </td><td>1         </td></tr>\n",
       "\t<tr><td>2016-01-04</td><td>Monday    </td><td>0         </td></tr>\n",
       "\t<tr><td>2016-01-05</td><td>Tuesday   </td><td>0         </td></tr>\n",
       "\t<tr><td>2016-01-06</td><td>Wednesday </td><td>0         </td></tr>\n",
       "</tbody>\n",
       "</table>\n"
      ],
      "text/latex": [
       "\\begin{tabular}{r|lll}\n",
       " calendar\\_date & day\\_of\\_week & holiday\\_flg\\\\\n",
       "\\hline\n",
       "\t 2016-01-01 & Friday     & 1         \\\\\n",
       "\t 2016-01-02 & Saturday   & 1         \\\\\n",
       "\t 2016-01-03 & Sunday     & 1         \\\\\n",
       "\t 2016-01-04 & Monday     & 0         \\\\\n",
       "\t 2016-01-05 & Tuesday    & 0         \\\\\n",
       "\t 2016-01-06 & Wednesday  & 0         \\\\\n",
       "\\end{tabular}\n"
      ],
      "text/markdown": [
       "\n",
       "| calendar_date | day_of_week | holiday_flg |\n",
       "|---|---|---|\n",
       "| 2016-01-01 | Friday     | 1          |\n",
       "| 2016-01-02 | Saturday   | 1          |\n",
       "| 2016-01-03 | Sunday     | 1          |\n",
       "| 2016-01-04 | Monday     | 0          |\n",
       "| 2016-01-05 | Tuesday    | 0          |\n",
       "| 2016-01-06 | Wednesday  | 0          |\n",
       "\n"
      ],
      "text/plain": [
       "  calendar_date day_of_week holiday_flg\n",
       "1 2016-01-01    Friday      1          \n",
       "2 2016-01-02    Saturday    1          \n",
       "3 2016-01-03    Sunday      1          \n",
       "4 2016-01-04    Monday      0          \n",
       "5 2016-01-05    Tuesday     0          \n",
       "6 2016-01-06    Wednesday   0          "
      ]
     },
     "metadata": {},
     "output_type": "display_data"
    },
    {
     "name": "stdout",
     "output_type": "stream",
     "text": [
      "'data.frame':\t517 obs. of  3 variables:\n",
      " $ calendar_date: Factor w/ 517 levels \"2016-01-01\",\"2016-01-02\",..: 1 2 3 4 5 6 7 8 9 10 ...\n",
      " $ day_of_week  : Factor w/ 7 levels \"Friday\",\"Monday\",..: 1 3 4 2 6 7 5 1 3 4 ...\n",
      " $ holiday_flg  : int  1 1 1 0 0 0 0 0 0 0 ...\n"
     ]
    }
   ],
   "source": [
    "head(date_info)\n",
    "str(date_info)"
   ]
  },
  {
   "cell_type": "code",
   "execution_count": null,
   "metadata": {},
   "outputs": [],
   "source": []
  },
  {
   "cell_type": "code",
   "execution_count": 12,
   "metadata": {},
   "outputs": [
    {
     "data": {
      "text/html": [
       "<table>\n",
       "<thead><tr><th scope=col>air_store_id</th><th scope=col>hpg_store_id</th></tr></thead>\n",
       "<tbody>\n",
       "\t<tr><td>air_63b13c56b7201bd9</td><td>hpg_4bc649e72e2a239a</td></tr>\n",
       "\t<tr><td>air_a24bf50c3e90d583</td><td>hpg_c34b496d0305a809</td></tr>\n",
       "\t<tr><td>air_c7f78b4f3cba33ff</td><td>hpg_cd8ae0d9bbd58ff9</td></tr>\n",
       "\t<tr><td>air_947eb2cae4f3e8f2</td><td>hpg_de24ea49dc25d6b8</td></tr>\n",
       "\t<tr><td>air_965b2e0cf4119003</td><td>hpg_653238a84804d8e7</td></tr>\n",
       "\t<tr><td>air_a38f25e3399d1b25</td><td>hpg_50378da9ffb9b6cd</td></tr>\n",
       "</tbody>\n",
       "</table>\n"
      ],
      "text/latex": [
       "\\begin{tabular}{r|ll}\n",
       " air\\_store\\_id & hpg\\_store\\_id\\\\\n",
       "\\hline\n",
       "\t air\\_63b13c56b7201bd9 & hpg\\_4bc649e72e2a239a\\\\\n",
       "\t air\\_a24bf50c3e90d583 & hpg\\_c34b496d0305a809\\\\\n",
       "\t air\\_c7f78b4f3cba33ff & hpg\\_cd8ae0d9bbd58ff9\\\\\n",
       "\t air\\_947eb2cae4f3e8f2 & hpg\\_de24ea49dc25d6b8\\\\\n",
       "\t air\\_965b2e0cf4119003 & hpg\\_653238a84804d8e7\\\\\n",
       "\t air\\_a38f25e3399d1b25 & hpg\\_50378da9ffb9b6cd\\\\\n",
       "\\end{tabular}\n"
      ],
      "text/markdown": [
       "\n",
       "| air_store_id | hpg_store_id |\n",
       "|---|---|\n",
       "| air_63b13c56b7201bd9 | hpg_4bc649e72e2a239a |\n",
       "| air_a24bf50c3e90d583 | hpg_c34b496d0305a809 |\n",
       "| air_c7f78b4f3cba33ff | hpg_cd8ae0d9bbd58ff9 |\n",
       "| air_947eb2cae4f3e8f2 | hpg_de24ea49dc25d6b8 |\n",
       "| air_965b2e0cf4119003 | hpg_653238a84804d8e7 |\n",
       "| air_a38f25e3399d1b25 | hpg_50378da9ffb9b6cd |\n",
       "\n"
      ],
      "text/plain": [
       "  air_store_id         hpg_store_id        \n",
       "1 air_63b13c56b7201bd9 hpg_4bc649e72e2a239a\n",
       "2 air_a24bf50c3e90d583 hpg_c34b496d0305a809\n",
       "3 air_c7f78b4f3cba33ff hpg_cd8ae0d9bbd58ff9\n",
       "4 air_947eb2cae4f3e8f2 hpg_de24ea49dc25d6b8\n",
       "5 air_965b2e0cf4119003 hpg_653238a84804d8e7\n",
       "6 air_a38f25e3399d1b25 hpg_50378da9ffb9b6cd"
      ]
     },
     "metadata": {},
     "output_type": "display_data"
    },
    {
     "name": "stdout",
     "output_type": "stream",
     "text": [
      "'data.frame':\t150 obs. of  2 variables:\n",
      " $ air_store_id: Factor w/ 150 levels \"air_00a91d42b08b08d9\",..: 57 97 120 88 90 98 33 61 53 1 ...\n",
      " $ hpg_store_id: Factor w/ 150 levels \"hpg_0183ec352e38903c\",..: 51 116 121 131 66 56 41 29 47 149 ...\n"
     ]
    }
   ],
   "source": [
    "head(store_id_relation)\n",
    "str(store_id_relation)"
   ]
  },
  {
   "cell_type": "code",
   "execution_count": 13,
   "metadata": {
    "scrolled": true
   },
   "outputs": [
    {
     "data": {
      "text/html": [
       "<table>\n",
       "<thead><tr><th scope=col>id</th><th scope=col>visitors</th></tr></thead>\n",
       "<tbody>\n",
       "\t<tr><td>air_00a91d42b08b08d9_2017-04-23</td><td>0                              </td></tr>\n",
       "\t<tr><td>air_00a91d42b08b08d9_2017-04-24</td><td>0                              </td></tr>\n",
       "\t<tr><td>air_00a91d42b08b08d9_2017-04-25</td><td>0                              </td></tr>\n",
       "\t<tr><td>air_00a91d42b08b08d9_2017-04-26</td><td>0                              </td></tr>\n",
       "\t<tr><td>air_00a91d42b08b08d9_2017-04-27</td><td>0                              </td></tr>\n",
       "\t<tr><td>air_00a91d42b08b08d9_2017-04-28</td><td>0                              </td></tr>\n",
       "</tbody>\n",
       "</table>\n"
      ],
      "text/latex": [
       "\\begin{tabular}{r|ll}\n",
       " id & visitors\\\\\n",
       "\\hline\n",
       "\t air\\_00a91d42b08b08d9\\_2017-04-23 & 0                                  \\\\\n",
       "\t air\\_00a91d42b08b08d9\\_2017-04-24 & 0                                  \\\\\n",
       "\t air\\_00a91d42b08b08d9\\_2017-04-25 & 0                                  \\\\\n",
       "\t air\\_00a91d42b08b08d9\\_2017-04-26 & 0                                  \\\\\n",
       "\t air\\_00a91d42b08b08d9\\_2017-04-27 & 0                                  \\\\\n",
       "\t air\\_00a91d42b08b08d9\\_2017-04-28 & 0                                  \\\\\n",
       "\\end{tabular}\n"
      ],
      "text/markdown": [
       "\n",
       "| id | visitors |\n",
       "|---|---|\n",
       "| air_00a91d42b08b08d9_2017-04-23 | 0                               |\n",
       "| air_00a91d42b08b08d9_2017-04-24 | 0                               |\n",
       "| air_00a91d42b08b08d9_2017-04-25 | 0                               |\n",
       "| air_00a91d42b08b08d9_2017-04-26 | 0                               |\n",
       "| air_00a91d42b08b08d9_2017-04-27 | 0                               |\n",
       "| air_00a91d42b08b08d9_2017-04-28 | 0                               |\n",
       "\n"
      ],
      "text/plain": [
       "  id                              visitors\n",
       "1 air_00a91d42b08b08d9_2017-04-23 0       \n",
       "2 air_00a91d42b08b08d9_2017-04-24 0       \n",
       "3 air_00a91d42b08b08d9_2017-04-25 0       \n",
       "4 air_00a91d42b08b08d9_2017-04-26 0       \n",
       "5 air_00a91d42b08b08d9_2017-04-27 0       \n",
       "6 air_00a91d42b08b08d9_2017-04-28 0       "
      ]
     },
     "metadata": {},
     "output_type": "display_data"
    },
    {
     "name": "stdout",
     "output_type": "stream",
     "text": [
      "'data.frame':\t32019 obs. of  2 variables:\n",
      " $ id      : Factor w/ 32019 levels \"air_00a91d42b08b08d9_2017-04-23\",..: 1 2 3 4 5 6 7 8 9 10 ...\n",
      " $ visitors: int  0 0 0 0 0 0 0 0 0 0 ...\n"
     ]
    }
   ],
   "source": [
    "head(sample_submission)\n",
    "str(sample_submission)"
   ]
  },
  {
   "cell_type": "markdown",
   "metadata": {},
   "source": [
    "# Combined data"
   ]
  },
  {
   "cell_type": "code",
   "execution_count": 14,
   "metadata": {},
   "outputs": [
    {
     "name": "stderr",
     "output_type": "stream",
     "text": [
      "Warning message:\n",
      "\"Column `visit_date`/`calendar_date` joining factors with different levels, coercing to character vector\""
     ]
    },
    {
     "data": {
      "text/html": [
       "<table>\n",
       "<thead><tr><th scope=col>air_store_id</th><th scope=col>visit_date</th><th scope=col>visitors</th><th scope=col>air_genre_name</th><th scope=col>air_area_name</th><th scope=col>day_of_week</th><th scope=col>holiday_flg</th></tr></thead>\n",
       "<tbody>\n",
       "\t<tr><td>air_ba937bf13d40fb24           </td><td>2016-01-13                     </td><td>25                             </td><td>Dining bar                     </td><td>TÅkyÅ-to Minato-ku ShibakÅen</td><td>Wednesday                      </td><td>No_holiday                     </td></tr>\n",
       "\t<tr><td>air_ba937bf13d40fb24           </td><td>2016-01-14                     </td><td>32                             </td><td>Dining bar                     </td><td>TÅkyÅ-to Minato-ku ShibakÅen</td><td>Thursday                       </td><td>No_holiday                     </td></tr>\n",
       "\t<tr><td>air_ba937bf13d40fb24           </td><td>2016-01-15                     </td><td>29                             </td><td>Dining bar                     </td><td>TÅkyÅ-to Minato-ku ShibakÅen</td><td>Friday                         </td><td>No_holiday                     </td></tr>\n",
       "\t<tr><td>air_ba937bf13d40fb24           </td><td>2016-01-16                     </td><td>22                             </td><td>Dining bar                     </td><td>TÅkyÅ-to Minato-ku ShibakÅen</td><td>Saturday                       </td><td>No_holiday                     </td></tr>\n",
       "\t<tr><td>air_ba937bf13d40fb24           </td><td>2016-01-18                     </td><td> 6                             </td><td>Dining bar                     </td><td>TÅkyÅ-to Minato-ku ShibakÅen</td><td>Monday                         </td><td>No_holiday                     </td></tr>\n",
       "\t<tr><td>air_ba937bf13d40fb24           </td><td>2016-01-19                     </td><td> 9                             </td><td>Dining bar                     </td><td>TÅkyÅ-to Minato-ku ShibakÅen</td><td>Tuesday                        </td><td>No_holiday                     </td></tr>\n",
       "</tbody>\n",
       "</table>\n"
      ],
      "text/latex": [
       "\\begin{tabular}{r|lllllll}\n",
       " air\\_store\\_id & visit\\_date & visitors & air\\_genre\\_name & air\\_area\\_name & day\\_of\\_week & holiday\\_flg\\\\\n",
       "\\hline\n",
       "\t air\\_ba937bf13d40fb24          & 2016-01-13                      & 25                              & Dining bar                      & TÅkyÅ-to Minato-ku ShibakÅen & Wednesday                       & No\\_holiday                   \\\\\n",
       "\t air\\_ba937bf13d40fb24          & 2016-01-14                      & 32                              & Dining bar                      & TÅkyÅ-to Minato-ku ShibakÅen & Thursday                        & No\\_holiday                   \\\\\n",
       "\t air\\_ba937bf13d40fb24          & 2016-01-15                      & 29                              & Dining bar                      & TÅkyÅ-to Minato-ku ShibakÅen & Friday                          & No\\_holiday                   \\\\\n",
       "\t air\\_ba937bf13d40fb24          & 2016-01-16                      & 22                              & Dining bar                      & TÅkyÅ-to Minato-ku ShibakÅen & Saturday                        & No\\_holiday                   \\\\\n",
       "\t air\\_ba937bf13d40fb24          & 2016-01-18                      &  6                              & Dining bar                      & TÅkyÅ-to Minato-ku ShibakÅen & Monday                          & No\\_holiday                   \\\\\n",
       "\t air\\_ba937bf13d40fb24          & 2016-01-19                      &  9                              & Dining bar                      & TÅkyÅ-to Minato-ku ShibakÅen & Tuesday                         & No\\_holiday                   \\\\\n",
       "\\end{tabular}\n"
      ],
      "text/markdown": [
       "\n",
       "| air_store_id | visit_date | visitors | air_genre_name | air_area_name | day_of_week | holiday_flg |\n",
       "|---|---|---|---|---|---|---|\n",
       "| air_ba937bf13d40fb24            | 2016-01-13                      | 25                              | Dining bar                      | TÅkyÅ-to Minato-ku ShibakÅen | Wednesday                       | No_holiday                      |\n",
       "| air_ba937bf13d40fb24            | 2016-01-14                      | 32                              | Dining bar                      | TÅkyÅ-to Minato-ku ShibakÅen | Thursday                        | No_holiday                      |\n",
       "| air_ba937bf13d40fb24            | 2016-01-15                      | 29                              | Dining bar                      | TÅkyÅ-to Minato-ku ShibakÅen | Friday                          | No_holiday                      |\n",
       "| air_ba937bf13d40fb24            | 2016-01-16                      | 22                              | Dining bar                      | TÅkyÅ-to Minato-ku ShibakÅen | Saturday                        | No_holiday                      |\n",
       "| air_ba937bf13d40fb24            | 2016-01-18                      |  6                              | Dining bar                      | TÅkyÅ-to Minato-ku ShibakÅen | Monday                          | No_holiday                      |\n",
       "| air_ba937bf13d40fb24            | 2016-01-19                      |  9                              | Dining bar                      | TÅkyÅ-to Minato-ku ShibakÅen | Tuesday                         | No_holiday                      |\n",
       "\n"
      ],
      "text/plain": [
       "  air_store_id         visit_date visitors air_genre_name\n",
       "1 air_ba937bf13d40fb24 2016-01-13 25       Dining bar    \n",
       "2 air_ba937bf13d40fb24 2016-01-14 32       Dining bar    \n",
       "3 air_ba937bf13d40fb24 2016-01-15 29       Dining bar    \n",
       "4 air_ba937bf13d40fb24 2016-01-16 22       Dining bar    \n",
       "5 air_ba937bf13d40fb24 2016-01-18  6       Dining bar    \n",
       "6 air_ba937bf13d40fb24 2016-01-19  9       Dining bar    \n",
       "  air_area_name                   day_of_week holiday_flg\n",
       "1 TÅ\\215kyÅ\\215-to Minato-ku ShibakÅ\\215en Wednesday   No_holiday \n",
       "2 TÅ\\215kyÅ\\215-to Minato-ku ShibakÅ\\215en Thursday    No_holiday \n",
       "3 TÅ\\215kyÅ\\215-to Minato-ku ShibakÅ\\215en Friday      No_holiday \n",
       "4 TÅ\\215kyÅ\\215-to Minato-ku ShibakÅ\\215en Saturday    No_holiday \n",
       "5 TÅ\\215kyÅ\\215-to Minato-ku ShibakÅ\\215en Monday      No_holiday \n",
       "6 TÅ\\215kyÅ\\215-to Minato-ku ShibakÅ\\215en Tuesday     No_holiday "
      ]
     },
     "metadata": {},
     "output_type": "display_data"
    },
    {
     "name": "stdout",
     "output_type": "stream",
     "text": [
      "'data.frame':\t252108 obs. of  7 variables:\n",
      " $ air_store_id  : Factor w/ 829 levels \"air_00a91d42b08b08d9\",..: 604 604 604 604 604 604 604 604 604 604 ...\n",
      " $ visit_date    : Date, format: \"2016-01-13\" \"2016-01-14\" ...\n",
      " $ visitors      : int  25 32 29 22 6 9 31 21 18 26 ...\n",
      " $ air_genre_name: Factor w/ 14 levels \"Asian\",\"Bar/Cocktail\",..: 5 5 5 5 5 5 5 5 5 5 ...\n",
      " $ air_area_name : Factor w/ 103 levels \"ÅŒsaka-fu ÅŒsaka-shi ÅŒgimachi\",..: 77 77 77 77 77 77 77 77 77 77 ...\n",
      " $ day_of_week   : Factor w/ 7 levels \"Friday\",\"Monday\",..: 7 5 1 3 2 6 7 5 1 3 ...\n",
      " $ holiday_flg   : Factor w/ 2 levels \"Holiday\",\"No_holiday\": 2 2 2 2 2 2 2 2 2 2 ...\n"
     ]
    }
   ],
   "source": [
    "# combining the data frame with common columns\n",
    "air_visit_data1 <- left_join(air_visit_data, air_store_info, by = c('air_store_id' = 'air_store_id'))\n",
    "air_visit_data2 <- left_join(air_visit_data1, date_info, by = c('visit_date' = 'calendar_date'))\n",
    "air_visit_data2 <- mutate(air_visit_data2, holiday_flg = ifelse(holiday_flg == 0, 'No_holiday', 'Holiday'))\n",
    "air_visit_data2$holiday_flg <- as.factor(air_visit_data2$holiday_flg)\n",
    "air_visit_data2$visit_date <- as.Date(air_visit_data2$visit_date)\n",
    "head(air_visit_data2)\n",
    "str(air_visit_data2)"
   ]
  },
  {
   "cell_type": "code",
   "execution_count": 15,
   "metadata": {
    "scrolled": true
   },
   "outputs": [
    {
     "data": {
      "text/plain": [
       "               air_store_id      visit_date            visitors     \n",
       " air_5c817ef28f236bdf:   477   Min.   :2016-01-01   Min.   :  1.00  \n",
       " air_36bcf77d3382d36e:   476   1st Qu.:2016-07-23   1st Qu.:  9.00  \n",
       " air_a083834e7ffe187e:   476   Median :2016-10-23   Median : 17.00  \n",
       " air_d97dabf7aae60da5:   476   Mean   :2016-10-12   Mean   : 20.97  \n",
       " air_232dcee6f7c51d37:   475   3rd Qu.:2017-01-24   3rd Qu.: 29.00  \n",
       " air_60a7057184ec7ec7:   475   Max.   :2017-04-22   Max.   :877.00  \n",
       " (Other)             :249253                                        \n",
       "        air_genre_name                            air_area_name   \n",
       " Izakaya       :62052   Fukuoka-ken Fukuoka-shi DaimyÅ\\215  : 19775  \n",
       " Cafe/Sweets   :52764   TÅ\\215kyÅ\\215-to Shibuya-ku Shibuya    : 17352  \n",
       " Dining bar    :34192   TÅ\\215kyÅ\\215-to Minato-ku ShibakÅ\\215en  : 14696  \n",
       " Italian/French:30011   TÅ\\215kyÅ\\215-to Shinjuku-ku KabukichÅ\\215: 12517  \n",
       " Bar/Cocktail  :25135   TÅ\\215kyÅ\\215-to Setagaya-ku Setagaya  :  8719  \n",
       " Japanese food :18789   TÅ\\215kyÅ\\215-to ChÅ«Å\\215-ku Tsukiji     :  8370  \n",
       " (Other)       :29165   (Other)                          :170679  \n",
       "    day_of_week        holiday_flg    \n",
       " Friday   :40351   Holiday   : 12775  \n",
       " Monday   :31682   No_holiday:239333  \n",
       " Saturday :39262                      \n",
       " Sunday   :29991                      \n",
       " Thursday :37996                      \n",
       " Tuesday  :36015                      \n",
       " Wednesday:36811                      "
      ]
     },
     "metadata": {},
     "output_type": "display_data"
    }
   ],
   "source": [
    "summary(air_visit_data2)"
   ]
  },
  {
   "cell_type": "code",
   "execution_count": 16,
   "metadata": {},
   "outputs": [
    {
     "data": {
      "text/html": [
       "<table>\n",
       "<thead><tr><th scope=col>air_store_id</th><th scope=col>visit_date</th><th scope=col>reserve_visitors_air</th><th scope=col>visit_datetime_air</th><th scope=col>reserve_datetime_air</th></tr></thead>\n",
       "<tbody>\n",
       "\t<tr><td>air_877f79706adbfb06</td><td>2016-01-01          </td><td>1                   </td><td>2016-01-01 19:00:00 </td><td>2016-01-01 16:00:00 </td></tr>\n",
       "\t<tr><td>air_db4b38ebe7a7ceff</td><td>2016-01-01          </td><td>3                   </td><td>2016-01-01 19:00:00 </td><td>2016-01-01 19:00:00 </td></tr>\n",
       "\t<tr><td>air_db4b38ebe7a7ceff</td><td>2016-01-01          </td><td>6                   </td><td>2016-01-01 19:00:00 </td><td>2016-01-01 19:00:00 </td></tr>\n",
       "\t<tr><td>air_877f79706adbfb06</td><td>2016-01-01          </td><td>2                   </td><td>2016-01-01 20:00:00 </td><td>2016-01-01 16:00:00 </td></tr>\n",
       "\t<tr><td>air_db80363d35f10926</td><td>2016-01-01          </td><td>5                   </td><td>2016-01-01 20:00:00 </td><td>2016-01-01 01:00:00 </td></tr>\n",
       "\t<tr><td>air_db80363d35f10926</td><td>2016-01-02          </td><td>2                   </td><td>2016-01-02 01:00:00 </td><td>2016-01-01 16:00:00 </td></tr>\n",
       "</tbody>\n",
       "</table>\n"
      ],
      "text/latex": [
       "\\begin{tabular}{r|lllll}\n",
       " air\\_store\\_id & visit\\_date & reserve\\_visitors\\_air & visit\\_datetime\\_air & reserve\\_datetime\\_air\\\\\n",
       "\\hline\n",
       "\t air\\_877f79706adbfb06 & 2016-01-01             & 1                      & 2016-01-01 19:00:00    & 2016-01-01 16:00:00   \\\\\n",
       "\t air\\_db4b38ebe7a7ceff & 2016-01-01             & 3                      & 2016-01-01 19:00:00    & 2016-01-01 19:00:00   \\\\\n",
       "\t air\\_db4b38ebe7a7ceff & 2016-01-01             & 6                      & 2016-01-01 19:00:00    & 2016-01-01 19:00:00   \\\\\n",
       "\t air\\_877f79706adbfb06 & 2016-01-01             & 2                      & 2016-01-01 20:00:00    & 2016-01-01 16:00:00   \\\\\n",
       "\t air\\_db80363d35f10926 & 2016-01-01             & 5                      & 2016-01-01 20:00:00    & 2016-01-01 01:00:00   \\\\\n",
       "\t air\\_db80363d35f10926 & 2016-01-02             & 2                      & 2016-01-02 01:00:00    & 2016-01-01 16:00:00   \\\\\n",
       "\\end{tabular}\n"
      ],
      "text/markdown": [
       "\n",
       "| air_store_id | visit_date | reserve_visitors_air | visit_datetime_air | reserve_datetime_air |\n",
       "|---|---|---|---|---|\n",
       "| air_877f79706adbfb06 | 2016-01-01           | 1                    | 2016-01-01 19:00:00  | 2016-01-01 16:00:00  |\n",
       "| air_db4b38ebe7a7ceff | 2016-01-01           | 3                    | 2016-01-01 19:00:00  | 2016-01-01 19:00:00  |\n",
       "| air_db4b38ebe7a7ceff | 2016-01-01           | 6                    | 2016-01-01 19:00:00  | 2016-01-01 19:00:00  |\n",
       "| air_877f79706adbfb06 | 2016-01-01           | 2                    | 2016-01-01 20:00:00  | 2016-01-01 16:00:00  |\n",
       "| air_db80363d35f10926 | 2016-01-01           | 5                    | 2016-01-01 20:00:00  | 2016-01-01 01:00:00  |\n",
       "| air_db80363d35f10926 | 2016-01-02           | 2                    | 2016-01-02 01:00:00  | 2016-01-01 16:00:00  |\n",
       "\n"
      ],
      "text/plain": [
       "  air_store_id         visit_date reserve_visitors_air visit_datetime_air \n",
       "1 air_877f79706adbfb06 2016-01-01 1                    2016-01-01 19:00:00\n",
       "2 air_db4b38ebe7a7ceff 2016-01-01 3                    2016-01-01 19:00:00\n",
       "3 air_db4b38ebe7a7ceff 2016-01-01 6                    2016-01-01 19:00:00\n",
       "4 air_877f79706adbfb06 2016-01-01 2                    2016-01-01 20:00:00\n",
       "5 air_db80363d35f10926 2016-01-01 5                    2016-01-01 20:00:00\n",
       "6 air_db80363d35f10926 2016-01-02 2                    2016-01-02 01:00:00\n",
       "  reserve_datetime_air\n",
       "1 2016-01-01 16:00:00 \n",
       "2 2016-01-01 19:00:00 \n",
       "3 2016-01-01 19:00:00 \n",
       "4 2016-01-01 16:00:00 \n",
       "5 2016-01-01 01:00:00 \n",
       "6 2016-01-01 16:00:00 "
      ]
     },
     "metadata": {},
     "output_type": "display_data"
    },
    {
     "name": "stdout",
     "output_type": "stream",
     "text": [
      "'data.frame':\t92378 obs. of  5 variables:\n",
      " $ air_store_id        : Factor w/ 314 levels \"air_00a91d42b08b08d9\",..: 168 270 270 168 271 271 271 72 72 49 ...\n",
      " $ visit_date          : Date, format: \"2016-01-01\" \"2016-01-01\" ...\n",
      " $ reserve_visitors_air: int  1 3 6 2 5 2 4 2 2 2 ...\n",
      " $ visit_datetime_air  : Factor w/ 4975 levels \"2016-01-01 19:00:00\",..: 1 1 1 2 2 3 3 4 4 5 ...\n",
      " $ reserve_datetime_air: Factor w/ 7513 levels \"2016-01-01 01:00:00\",..: 6 8 8 6 1 6 5 17 9 20 ...\n"
     ]
    }
   ],
   "source": [
    "head(air_reserve)\n",
    "str(air_reserve)"
   ]
  },
  {
   "cell_type": "code",
   "execution_count": 17,
   "metadata": {},
   "outputs": [
    {
     "data": {
      "text/plain": [
       "               air_store_id     visit_date         reserve_visitors_air\n",
       " air_8093d0b565e9dbdf: 2263   Min.   :2016-01-01   Min.   :  1.000     \n",
       " air_e55abd740f93ecc4: 1903   1st Qu.:2016-11-15   1st Qu.:  2.000     \n",
       " air_0a74a5408a0b8642: 1831   Median :2017-01-05   Median :  3.000     \n",
       " air_cf5ab75a0afb8af9: 1758   Mean   :2016-12-04   Mean   :  4.482     \n",
       " air_6d65542aa43b598b: 1436   3rd Qu.:2017-03-03   3rd Qu.:  5.000     \n",
       " air_de692863bb2dd758: 1355   Max.   :2017-05-31   Max.   :100.000     \n",
       " (Other)             :81832                                            \n",
       "           visit_datetime_air          reserve_datetime_air\n",
       " 2016-12-24 19:00:00:  255    2016-11-24 18:00:00:  106    \n",
       " 2016-12-29 18:00:00:  230    2016-12-24 17:00:00:  103    \n",
       " 2016-12-17 18:00:00:  229    2016-12-08 18:00:00:   95    \n",
       " 2016-12-24 18:00:00:  227    2016-12-06 19:00:00:   92    \n",
       " 2017-02-04 19:00:00:  226    2016-12-07 17:00:00:   91    \n",
       " 2016-12-10 18:00:00:  219    2017-03-09 18:00:00:   90    \n",
       " (Other)            :90992    (Other)            :91801    "
      ]
     },
     "metadata": {},
     "output_type": "display_data"
    }
   ],
   "source": [
    "summary(air_reserve)"
   ]
  },
  {
   "cell_type": "code",
   "execution_count": 18,
   "metadata": {},
   "outputs": [
    {
     "name": "stderr",
     "output_type": "stream",
     "text": [
      "Warning message:\n",
      "\"Column `air_store_id` joining factors with different levels, coercing to character vector\""
     ]
    }
   ],
   "source": [
    "air_visit_data3 <- left_join(air_visit_data2, air_reserve, by = c('air_store_id' = 'air_store_id', 'visit_date' = 'visit_date'))"
   ]
  },
  {
   "cell_type": "code",
   "execution_count": 19,
   "metadata": {},
   "outputs": [
    {
     "data": {
      "text/html": [
       "<table>\n",
       "<thead><tr><th scope=col>air_store_id</th><th scope=col>visit_date</th><th scope=col>visitors</th><th scope=col>air_genre_name</th><th scope=col>air_area_name</th><th scope=col>day_of_week</th><th scope=col>holiday_flg</th><th scope=col>reserve_visitors_air</th><th scope=col>visit_datetime_air</th><th scope=col>reserve_datetime_air</th></tr></thead>\n",
       "<tbody>\n",
       "\t<tr><td>air_ba937bf13d40fb24           </td><td>2016-01-13                     </td><td>25                             </td><td>Dining bar                     </td><td>TÅkyÅ-to Minato-ku ShibakÅen</td><td>Wednesday                      </td><td>No_holiday                     </td><td>NA                             </td><td>NA                             </td><td>NA                             </td></tr>\n",
       "\t<tr><td>air_ba937bf13d40fb24           </td><td>2016-01-14                     </td><td>32                             </td><td>Dining bar                     </td><td>TÅkyÅ-to Minato-ku ShibakÅen</td><td>Thursday                       </td><td>No_holiday                     </td><td>NA                             </td><td>NA                             </td><td>NA                             </td></tr>\n",
       "\t<tr><td>air_ba937bf13d40fb24           </td><td>2016-01-15                     </td><td>29                             </td><td>Dining bar                     </td><td>TÅkyÅ-to Minato-ku ShibakÅen</td><td>Friday                         </td><td>No_holiday                     </td><td>NA                             </td><td>NA                             </td><td>NA                             </td></tr>\n",
       "\t<tr><td>air_ba937bf13d40fb24           </td><td>2016-01-16                     </td><td>22                             </td><td>Dining bar                     </td><td>TÅkyÅ-to Minato-ku ShibakÅen</td><td>Saturday                       </td><td>No_holiday                     </td><td>NA                             </td><td>NA                             </td><td>NA                             </td></tr>\n",
       "\t<tr><td>air_ba937bf13d40fb24           </td><td>2016-01-18                     </td><td> 6                             </td><td>Dining bar                     </td><td>TÅkyÅ-to Minato-ku ShibakÅen</td><td>Monday                         </td><td>No_holiday                     </td><td>NA                             </td><td>NA                             </td><td>NA                             </td></tr>\n",
       "\t<tr><td>air_ba937bf13d40fb24           </td><td>2016-01-19                     </td><td> 9                             </td><td>Dining bar                     </td><td>TÅkyÅ-to Minato-ku ShibakÅen</td><td>Tuesday                        </td><td>No_holiday                     </td><td>NA                             </td><td>NA                             </td><td>NA                             </td></tr>\n",
       "</tbody>\n",
       "</table>\n"
      ],
      "text/latex": [
       "\\begin{tabular}{r|llllllllll}\n",
       " air\\_store\\_id & visit\\_date & visitors & air\\_genre\\_name & air\\_area\\_name & day\\_of\\_week & holiday\\_flg & reserve\\_visitors\\_air & visit\\_datetime\\_air & reserve\\_datetime\\_air\\\\\n",
       "\\hline\n",
       "\t air\\_ba937bf13d40fb24          & 2016-01-13                      & 25                              & Dining bar                      & TÅkyÅ-to Minato-ku ShibakÅen & Wednesday                       & No\\_holiday                    & NA                              & NA                              & NA                             \\\\\n",
       "\t air\\_ba937bf13d40fb24          & 2016-01-14                      & 32                              & Dining bar                      & TÅkyÅ-to Minato-ku ShibakÅen & Thursday                        & No\\_holiday                    & NA                              & NA                              & NA                             \\\\\n",
       "\t air\\_ba937bf13d40fb24          & 2016-01-15                      & 29                              & Dining bar                      & TÅkyÅ-to Minato-ku ShibakÅen & Friday                          & No\\_holiday                    & NA                              & NA                              & NA                             \\\\\n",
       "\t air\\_ba937bf13d40fb24          & 2016-01-16                      & 22                              & Dining bar                      & TÅkyÅ-to Minato-ku ShibakÅen & Saturday                        & No\\_holiday                    & NA                              & NA                              & NA                             \\\\\n",
       "\t air\\_ba937bf13d40fb24          & 2016-01-18                      &  6                              & Dining bar                      & TÅkyÅ-to Minato-ku ShibakÅen & Monday                          & No\\_holiday                    & NA                              & NA                              & NA                             \\\\\n",
       "\t air\\_ba937bf13d40fb24          & 2016-01-19                      &  9                              & Dining bar                      & TÅkyÅ-to Minato-ku ShibakÅen & Tuesday                         & No\\_holiday                    & NA                              & NA                              & NA                             \\\\\n",
       "\\end{tabular}\n"
      ],
      "text/markdown": [
       "\n",
       "| air_store_id | visit_date | visitors | air_genre_name | air_area_name | day_of_week | holiday_flg | reserve_visitors_air | visit_datetime_air | reserve_datetime_air |\n",
       "|---|---|---|---|---|---|---|---|---|---|\n",
       "| air_ba937bf13d40fb24            | 2016-01-13                      | 25                              | Dining bar                      | TÅkyÅ-to Minato-ku ShibakÅen | Wednesday                       | No_holiday                      | NA                              | NA                              | NA                              |\n",
       "| air_ba937bf13d40fb24            | 2016-01-14                      | 32                              | Dining bar                      | TÅkyÅ-to Minato-ku ShibakÅen | Thursday                        | No_holiday                      | NA                              | NA                              | NA                              |\n",
       "| air_ba937bf13d40fb24            | 2016-01-15                      | 29                              | Dining bar                      | TÅkyÅ-to Minato-ku ShibakÅen | Friday                          | No_holiday                      | NA                              | NA                              | NA                              |\n",
       "| air_ba937bf13d40fb24            | 2016-01-16                      | 22                              | Dining bar                      | TÅkyÅ-to Minato-ku ShibakÅen | Saturday                        | No_holiday                      | NA                              | NA                              | NA                              |\n",
       "| air_ba937bf13d40fb24            | 2016-01-18                      |  6                              | Dining bar                      | TÅkyÅ-to Minato-ku ShibakÅen | Monday                          | No_holiday                      | NA                              | NA                              | NA                              |\n",
       "| air_ba937bf13d40fb24            | 2016-01-19                      |  9                              | Dining bar                      | TÅkyÅ-to Minato-ku ShibakÅen | Tuesday                         | No_holiday                      | NA                              | NA                              | NA                              |\n",
       "\n"
      ],
      "text/plain": [
       "  air_store_id         visit_date visitors air_genre_name\n",
       "1 air_ba937bf13d40fb24 2016-01-13 25       Dining bar    \n",
       "2 air_ba937bf13d40fb24 2016-01-14 32       Dining bar    \n",
       "3 air_ba937bf13d40fb24 2016-01-15 29       Dining bar    \n",
       "4 air_ba937bf13d40fb24 2016-01-16 22       Dining bar    \n",
       "5 air_ba937bf13d40fb24 2016-01-18  6       Dining bar    \n",
       "6 air_ba937bf13d40fb24 2016-01-19  9       Dining bar    \n",
       "  air_area_name                   day_of_week holiday_flg reserve_visitors_air\n",
       "1 TÅ\\215kyÅ\\215-to Minato-ku ShibakÅ\\215en Wednesday   No_holiday  NA                  \n",
       "2 TÅ\\215kyÅ\\215-to Minato-ku ShibakÅ\\215en Thursday    No_holiday  NA                  \n",
       "3 TÅ\\215kyÅ\\215-to Minato-ku ShibakÅ\\215en Friday      No_holiday  NA                  \n",
       "4 TÅ\\215kyÅ\\215-to Minato-ku ShibakÅ\\215en Saturday    No_holiday  NA                  \n",
       "5 TÅ\\215kyÅ\\215-to Minato-ku ShibakÅ\\215en Monday      No_holiday  NA                  \n",
       "6 TÅ\\215kyÅ\\215-to Minato-ku ShibakÅ\\215en Tuesday     No_holiday  NA                  \n",
       "  visit_datetime_air reserve_datetime_air\n",
       "1 NA                 NA                  \n",
       "2 NA                 NA                  \n",
       "3 NA                 NA                  \n",
       "4 NA                 NA                  \n",
       "5 NA                 NA                  \n",
       "6 NA                 NA                  "
      ]
     },
     "metadata": {},
     "output_type": "display_data"
    },
    {
     "name": "stdout",
     "output_type": "stream",
     "text": [
      "'data.frame':\t311225 obs. of  10 variables:\n",
      " $ air_store_id        : chr  \"air_ba937bf13d40fb24\" \"air_ba937bf13d40fb24\" \"air_ba937bf13d40fb24\" \"air_ba937bf13d40fb24\" ...\n",
      " $ visit_date          : Date, format: \"2016-01-13\" \"2016-01-14\" ...\n",
      " $ visitors            : int  25 32 29 22 6 9 31 21 18 26 ...\n",
      " $ air_genre_name      : Factor w/ 14 levels \"Asian\",\"Bar/Cocktail\",..: 5 5 5 5 5 5 5 5 5 5 ...\n",
      " $ air_area_name       : Factor w/ 103 levels \"ÅŒsaka-fu ÅŒsaka-shi ÅŒgimachi\",..: 77 77 77 77 77 77 77 77 77 77 ...\n",
      " $ day_of_week         : Factor w/ 7 levels \"Friday\",\"Monday\",..: 7 5 1 3 2 6 7 5 1 3 ...\n",
      " $ holiday_flg         : Factor w/ 2 levels \"Holiday\",\"No_holiday\": 2 2 2 2 2 2 2 2 2 2 ...\n",
      " $ reserve_visitors_air: int  NA NA NA NA NA NA NA NA NA NA ...\n",
      " $ visit_datetime_air  : Factor w/ 4975 levels \"2016-01-01 19:00:00\",..: NA NA NA NA NA NA NA NA NA NA ...\n",
      " $ reserve_datetime_air: Factor w/ 7513 levels \"2016-01-01 01:00:00\",..: NA NA NA NA NA NA NA NA NA NA ...\n"
     ]
    }
   ],
   "source": [
    "head(air_visit_data3)\n",
    "str(air_visit_data3)"
   ]
  },
  {
   "cell_type": "code",
   "execution_count": 20,
   "metadata": {},
   "outputs": [
    {
     "data": {
      "text/plain": [
       " air_store_id         visit_date            visitors     \n",
       " Length:311225      Min.   :2016-01-01   Min.   :  1.00  \n",
       " Class :character   1st Qu.:2016-07-29   1st Qu.: 10.00  \n",
       " Mode  :character   Median :2016-11-13   Median : 20.00  \n",
       "                    Mean   :2016-10-22   Mean   : 23.79  \n",
       "                    3rd Qu.:2017-02-04   3rd Qu.: 33.00  \n",
       "                    Max.   :2017-04-22   Max.   :877.00  \n",
       "                                                         \n",
       "        air_genre_name                                     air_area_name   \n",
       " Izakaya       :83883   Fukuoka-ken Fukuoka-shi DaimyÅ\\215           : 22742  \n",
       " Cafe/Sweets   :54874   TÅ\\215kyÅ\\215-to Shibuya-ku Shibuya             : 21024  \n",
       " Italian/French:43637   TÅ\\215kyÅ\\215-to Minato-ku ShibakÅ\\215en           : 16712  \n",
       " Dining bar    :38825   TÅ\\215kyÅ\\215-to Shinjuku-ku KabukichÅ\\215         : 14921  \n",
       " Japanese food :25440   Hiroshima-ken Hiroshima-shi Kokutaijimachi: 10766  \n",
       " Bar/Cocktail  :25373   HokkaidÅ\\215 Sapporo-shi Minami 3 JÅ\\215nishi   :  9890  \n",
       " (Other)       :39193   (Other)                                   :215170  \n",
       "    day_of_week        holiday_flg     reserve_visitors_air\n",
       " Friday   :53803   Holiday   : 16908   Min.   :  1.00      \n",
       " Monday   :35831   No_holiday:294317   1st Qu.:  2.00      \n",
       " Saturday :54772                       Median :  3.00      \n",
       " Sunday   :36858                       Mean   :  4.43      \n",
       " Thursday :44848                       3rd Qu.:  5.00      \n",
       " Tuesday  :41573                       Max.   :100.00      \n",
       " Wednesday:43540                       NA's   :224044      \n",
       "           visit_datetime_air          reserve_datetime_air\n",
       " 2016-12-24 19:00:00:   246   2016-11-24 18:00:00:   103   \n",
       " 2016-12-29 18:00:00:   223   2016-12-24 17:00:00:   102   \n",
       " 2017-02-04 19:00:00:   221   2016-12-08 18:00:00:    92   \n",
       " 2016-12-17 18:00:00:   218   2016-12-07 17:00:00:    89   \n",
       " 2016-12-24 18:00:00:   216   2017-03-09 18:00:00:    89   \n",
       " (Other)            : 86057   (Other)            : 86706   \n",
       " NA's               :224044   NA's               :224044   "
      ]
     },
     "metadata": {},
     "output_type": "display_data"
    }
   ],
   "source": [
    "summary(air_visit_data3)"
   ]
  },
  {
   "cell_type": "code",
   "execution_count": 21,
   "metadata": {},
   "outputs": [],
   "source": [
    "air_visit_data4 <- na.omit(air_visit_data3)"
   ]
  },
  {
   "cell_type": "code",
   "execution_count": 22,
   "metadata": {},
   "outputs": [],
   "source": [
    "air_visit_data4$unreserved_visitors <- (air_visit_data4$visitors -(air_visit_data4$reserve_visitors_air))\n",
    "air_visit_data4$reserved_visitors <- air_visit_data4$visitors - air_visit_data4$unreserved_visitors\n",
    "air_visit_data4$time_gap_in_hours <- as.numeric(difftime(air_visit_data4$visit_datetime_air,air_visit_data4$reserve_datetime_air), units = 'hours')"
   ]
  },
  {
   "cell_type": "code",
   "execution_count": 23,
   "metadata": {},
   "outputs": [],
   "source": [
    "breaks <- hour(hm(\"00:00\", \"8:00\", \"2:00\", \"18:00\", \"23:59\")) # create breaks\n",
    "labels <- c(\"Morning\", \"Afternoon\", \"Evening\", \"Night\") # labels for the breaks\n",
    "air_visit_data4$Time_of_day <- cut(x=hour(air_visit_data4$visit_datetime_air), breaks = breaks, labels = labels, include.lowest= TRUE)"
   ]
  },
  {
   "cell_type": "code",
   "execution_count": 24,
   "metadata": {},
   "outputs": [],
   "source": [
    "air_visit_data4$reserve_datetime_air <- as.POSIXct(air_visit_data4$reserve_datetime_air)\n",
    "air_visit_data4$visit_month <-  months.Date(air_visit_data4$visit_date)\n",
    "air_visit_data4$r_month_air <-  months.Date(air_visit_data4$reserve_datetime_air)"
   ]
  },
  {
   "cell_type": "code",
   "execution_count": 25,
   "metadata": {},
   "outputs": [],
   "source": [
    "air_visit_data4$reserve_visitors_air <- NULL"
   ]
  },
  {
   "cell_type": "code",
   "execution_count": 26,
   "metadata": {},
   "outputs": [
    {
     "data": {
      "text/html": [
       "<table>\n",
       "<thead><tr><th></th><th scope=col>air_store_id</th><th scope=col>visit_date</th><th scope=col>visitors</th><th scope=col>air_genre_name</th><th scope=col>air_area_name</th><th scope=col>day_of_week</th><th scope=col>holiday_flg</th><th scope=col>visit_datetime_air</th><th scope=col>reserve_datetime_air</th><th scope=col>unreserved_visitors</th><th scope=col>reserved_visitors</th><th scope=col>time_gap_in_hours</th><th scope=col>Time_of_day</th><th scope=col>visit_month</th><th scope=col>r_month_air</th></tr></thead>\n",
       "<tbody>\n",
       "\t<tr><th scope=row>1007</th><td>air_35512c42db0868da                    </td><td>2016-02-27                              </td><td> 6                                      </td><td>Dining bar                              </td><td>TÅkyÅ-to Musashino-shi MidorichÅ     </td><td>Saturday                                </td><td>No_holiday                              </td><td>2016-02-27 22:00:00                     </td><td>2016-02-27                              </td><td>-6                                      </td><td>12                                      </td><td> 0                                      </td><td>Night                                   </td><td>February                                </td><td>February                                </td></tr>\n",
       "\t<tr><th scope=row>3745</th><td>air_ee3a01f0c71a769f                    </td><td>2016-01-04                              </td><td>61                                      </td><td>Cafe/Sweets                             </td><td>Shizuoka-ken Hamamatsu-shi MotoshirochÅ</td><td>Monday                                  </td><td>No_holiday                              </td><td>2016-01-04 15:00:00                     </td><td>2016-01-04                              </td><td>59                                      </td><td> 2                                      </td><td> 0                                      </td><td>Evening                                 </td><td>January                                 </td><td>January                                 </td></tr>\n",
       "\t<tr><th scope=row>3748</th><td>air_ee3a01f0c71a769f                    </td><td>2016-01-08                              </td><td>21                                      </td><td>Cafe/Sweets                             </td><td>Shizuoka-ken Hamamatsu-shi MotoshirochÅ</td><td>Friday                                  </td><td>No_holiday                              </td><td>2016-01-08 19:00:00                     </td><td>2016-01-06                              </td><td>18                                      </td><td> 3                                      </td><td>48                                      </td><td>Night                                   </td><td>January                                 </td><td>January                                 </td></tr>\n",
       "\t<tr><th scope=row>3749</th><td>air_ee3a01f0c71a769f                    </td><td>2016-01-09                              </td><td>57                                      </td><td>Cafe/Sweets                             </td><td>Shizuoka-ken Hamamatsu-shi MotoshirochÅ</td><td>Saturday                                </td><td>No_holiday                              </td><td>2016-01-09 11:00:00                     </td><td>2016-01-06                              </td><td>56                                      </td><td> 1                                      </td><td>72                                      </td><td>Evening                                 </td><td>January                                 </td><td>January                                 </td></tr>\n",
       "\t<tr><th scope=row>3750</th><td>air_ee3a01f0c71a769f                    </td><td>2016-01-09                              </td><td>57                                      </td><td>Cafe/Sweets                             </td><td>Shizuoka-ken Hamamatsu-shi MotoshirochÅ</td><td>Saturday                                </td><td>No_holiday                              </td><td>2016-01-09 11:00:00                     </td><td>2016-01-07                              </td><td>55                                      </td><td> 2                                      </td><td>48                                      </td><td>Evening                                 </td><td>January                                 </td><td>January                                 </td></tr>\n",
       "\t<tr><th scope=row>3751</th><td>air_ee3a01f0c71a769f                    </td><td>2016-01-09                              </td><td>57                                      </td><td>Cafe/Sweets                             </td><td>Shizuoka-ken Hamamatsu-shi MotoshirochÅ</td><td>Saturday                                </td><td>No_holiday                              </td><td>2016-01-09 11:00:00                     </td><td>2016-01-08                              </td><td>54                                      </td><td> 3                                      </td><td>24                                      </td><td>Evening                                 </td><td>January                                 </td><td>January                                 </td></tr>\n",
       "</tbody>\n",
       "</table>\n"
      ],
      "text/latex": [
       "\\begin{tabular}{r|lllllllllllllll}\n",
       "  & air\\_store\\_id & visit\\_date & visitors & air\\_genre\\_name & air\\_area\\_name & day\\_of\\_week & holiday\\_flg & visit\\_datetime\\_air & reserve\\_datetime\\_air & unreserved\\_visitors & reserved\\_visitors & time\\_gap\\_in\\_hours & Time\\_of\\_day & visit\\_month & r\\_month\\_air\\\\\n",
       "\\hline\n",
       "\t1007 & air\\_35512c42db0868da                   & 2016-02-27                               &  6                                       & Dining bar                               & TÅkyÅ-to Musashino-shi MidorichÅ      & Saturday                                 & No\\_holiday                             & 2016-02-27 22:00:00                      & 2016-02-27                               & -6                                       & 12                                       &  0                                       & Night                                    & February                                 & February                                \\\\\n",
       "\t3745 & air\\_ee3a01f0c71a769f                   & 2016-01-04                               & 61                                       & Cafe/Sweets                              & Shizuoka-ken Hamamatsu-shi MotoshirochÅ & Monday                                   & No\\_holiday                             & 2016-01-04 15:00:00                      & 2016-01-04                               & 59                                       &  2                                       &  0                                       & Evening                                  & January                                  & January                                 \\\\\n",
       "\t3748 & air\\_ee3a01f0c71a769f                   & 2016-01-08                               & 21                                       & Cafe/Sweets                              & Shizuoka-ken Hamamatsu-shi MotoshirochÅ & Friday                                   & No\\_holiday                             & 2016-01-08 19:00:00                      & 2016-01-06                               & 18                                       &  3                                       & 48                                       & Night                                    & January                                  & January                                 \\\\\n",
       "\t3749 & air\\_ee3a01f0c71a769f                   & 2016-01-09                               & 57                                       & Cafe/Sweets                              & Shizuoka-ken Hamamatsu-shi MotoshirochÅ & Saturday                                 & No\\_holiday                             & 2016-01-09 11:00:00                      & 2016-01-06                               & 56                                       &  1                                       & 72                                       & Evening                                  & January                                  & January                                 \\\\\n",
       "\t3750 & air\\_ee3a01f0c71a769f                   & 2016-01-09                               & 57                                       & Cafe/Sweets                              & Shizuoka-ken Hamamatsu-shi MotoshirochÅ & Saturday                                 & No\\_holiday                             & 2016-01-09 11:00:00                      & 2016-01-07                               & 55                                       &  2                                       & 48                                       & Evening                                  & January                                  & January                                 \\\\\n",
       "\t3751 & air\\_ee3a01f0c71a769f                   & 2016-01-09                               & 57                                       & Cafe/Sweets                              & Shizuoka-ken Hamamatsu-shi MotoshirochÅ & Saturday                                 & No\\_holiday                             & 2016-01-09 11:00:00                      & 2016-01-08                               & 54                                       &  3                                       & 24                                       & Evening                                  & January                                  & January                                 \\\\\n",
       "\\end{tabular}\n"
      ],
      "text/markdown": [
       "\n",
       "| <!--/--> | air_store_id | visit_date | visitors | air_genre_name | air_area_name | day_of_week | holiday_flg | visit_datetime_air | reserve_datetime_air | unreserved_visitors | reserved_visitors | time_gap_in_hours | Time_of_day | visit_month | r_month_air |\n",
       "|---|---|---|---|---|---|---|---|---|---|---|---|---|---|---|---|\n",
       "| 1007 | air_35512c42db0868da                     | 2016-02-27                               |  6                                       | Dining bar                               | TÅkyÅ-to Musashino-shi MidorichÅ      | Saturday                                 | No_holiday                               | 2016-02-27 22:00:00                      | 2016-02-27                               | -6                                       | 12                                       |  0                                       | Night                                    | February                                 | February                                 |\n",
       "| 3745 | air_ee3a01f0c71a769f                     | 2016-01-04                               | 61                                       | Cafe/Sweets                              | Shizuoka-ken Hamamatsu-shi MotoshirochÅ | Monday                                   | No_holiday                               | 2016-01-04 15:00:00                      | 2016-01-04                               | 59                                       |  2                                       |  0                                       | Evening                                  | January                                  | January                                  |\n",
       "| 3748 | air_ee3a01f0c71a769f                     | 2016-01-08                               | 21                                       | Cafe/Sweets                              | Shizuoka-ken Hamamatsu-shi MotoshirochÅ | Friday                                   | No_holiday                               | 2016-01-08 19:00:00                      | 2016-01-06                               | 18                                       |  3                                       | 48                                       | Night                                    | January                                  | January                                  |\n",
       "| 3749 | air_ee3a01f0c71a769f                     | 2016-01-09                               | 57                                       | Cafe/Sweets                              | Shizuoka-ken Hamamatsu-shi MotoshirochÅ | Saturday                                 | No_holiday                               | 2016-01-09 11:00:00                      | 2016-01-06                               | 56                                       |  1                                       | 72                                       | Evening                                  | January                                  | January                                  |\n",
       "| 3750 | air_ee3a01f0c71a769f                     | 2016-01-09                               | 57                                       | Cafe/Sweets                              | Shizuoka-ken Hamamatsu-shi MotoshirochÅ | Saturday                                 | No_holiday                               | 2016-01-09 11:00:00                      | 2016-01-07                               | 55                                       |  2                                       | 48                                       | Evening                                  | January                                  | January                                  |\n",
       "| 3751 | air_ee3a01f0c71a769f                     | 2016-01-09                               | 57                                       | Cafe/Sweets                              | Shizuoka-ken Hamamatsu-shi MotoshirochÅ | Saturday                                 | No_holiday                               | 2016-01-09 11:00:00                      | 2016-01-08                               | 54                                       |  3                                       | 24                                       | Evening                                  | January                                  | January                                  |\n",
       "\n"
      ],
      "text/plain": [
       "     air_store_id         visit_date visitors air_genre_name\n",
       "1007 air_35512c42db0868da 2016-02-27  6       Dining bar    \n",
       "3745 air_ee3a01f0c71a769f 2016-01-04 61       Cafe/Sweets   \n",
       "3748 air_ee3a01f0c71a769f 2016-01-08 21       Cafe/Sweets   \n",
       "3749 air_ee3a01f0c71a769f 2016-01-09 57       Cafe/Sweets   \n",
       "3750 air_ee3a01f0c71a769f 2016-01-09 57       Cafe/Sweets   \n",
       "3751 air_ee3a01f0c71a769f 2016-01-09 57       Cafe/Sweets   \n",
       "     air_area_name                            day_of_week holiday_flg\n",
       "1007 TÅ\\215kyÅ\\215-to Musashino-shi MidorichÅ\\215      Saturday    No_holiday \n",
       "3745 Shizuoka-ken Hamamatsu-shi MotoshirochÅ\\215 Monday      No_holiday \n",
       "3748 Shizuoka-ken Hamamatsu-shi MotoshirochÅ\\215 Friday      No_holiday \n",
       "3749 Shizuoka-ken Hamamatsu-shi MotoshirochÅ\\215 Saturday    No_holiday \n",
       "3750 Shizuoka-ken Hamamatsu-shi MotoshirochÅ\\215 Saturday    No_holiday \n",
       "3751 Shizuoka-ken Hamamatsu-shi MotoshirochÅ\\215 Saturday    No_holiday \n",
       "     visit_datetime_air  reserve_datetime_air unreserved_visitors\n",
       "1007 2016-02-27 22:00:00 2016-02-27           -6                 \n",
       "3745 2016-01-04 15:00:00 2016-01-04           59                 \n",
       "3748 2016-01-08 19:00:00 2016-01-06           18                 \n",
       "3749 2016-01-09 11:00:00 2016-01-06           56                 \n",
       "3750 2016-01-09 11:00:00 2016-01-07           55                 \n",
       "3751 2016-01-09 11:00:00 2016-01-08           54                 \n",
       "     reserved_visitors time_gap_in_hours Time_of_day visit_month r_month_air\n",
       "1007 12                 0                Night       February    February   \n",
       "3745  2                 0                Evening     January     January    \n",
       "3748  3                48                Night       January     January    \n",
       "3749  1                72                Evening     January     January    \n",
       "3750  2                48                Evening     January     January    \n",
       "3751  3                24                Evening     January     January    "
      ]
     },
     "metadata": {},
     "output_type": "display_data"
    },
    {
     "name": "stdout",
     "output_type": "stream",
     "text": [
      "'data.frame':\t87181 obs. of  15 variables:\n",
      " $ air_store_id        : chr  \"air_35512c42db0868da\" \"air_ee3a01f0c71a769f\" \"air_ee3a01f0c71a769f\" \"air_ee3a01f0c71a769f\" ...\n",
      " $ visit_date          : Date, format: \"2016-02-27\" \"2016-01-04\" ...\n",
      " $ visitors            : int  6 61 21 57 57 57 57 57 57 57 ...\n",
      " $ air_genre_name      : Factor w/ 14 levels \"Asian\",\"Bar/Cocktail\",..: 5 3 3 3 3 3 3 3 3 3 ...\n",
      " $ air_area_name       : Factor w/ 103 levels \"ÅŒsaka-fu ÅŒsaka-shi ÅŒgimachi\",..: 79 50 50 50 50 50 50 50 50 50 ...\n",
      " $ day_of_week         : Factor w/ 7 levels \"Friday\",\"Monday\",..: 3 2 1 3 3 3 3 3 3 3 ...\n",
      " $ holiday_flg         : Factor w/ 2 levels \"Holiday\",\"No_holiday\": 2 2 2 2 2 2 2 2 2 2 ...\n",
      " $ visit_datetime_air  : Factor w/ 4975 levels \"2016-01-01 19:00:00\",..: 621 17 59 67 67 67 69 69 70 71 ...\n",
      " $ reserve_datetime_air: POSIXct, format: \"2016-02-27\" \"2016-01-04\" ...\n",
      " $ unreserved_visitors : int  -6 59 18 56 55 54 55 55 55 55 ...\n",
      " $ reserved_visitors   : int  12 2 3 1 2 3 2 2 2 2 ...\n",
      " $ time_gap_in_hours   : num  0 0 48 72 48 24 0 192 72 48 ...\n",
      " $ Time_of_day         : Factor w/ 4 levels \"Morning\",\"Afternoon\",..: 4 3 4 3 3 3 3 3 3 3 ...\n",
      " $ visit_month         : chr  \"February\" \"January\" \"January\" \"January\" ...\n",
      " $ r_month_air         : chr  \"February\" \"January\" \"January\" \"January\" ...\n",
      " - attr(*, \"na.action\")= 'omit' Named int  1 2 3 4 5 6 7 8 9 10 ...\n",
      "  ..- attr(*, \"names\")= chr  \"1\" \"2\" \"3\" \"4\" ...\n"
     ]
    }
   ],
   "source": [
    "head(air_visit_data4)\n",
    "str(air_visit_data4)"
   ]
  },
  {
   "cell_type": "code",
   "execution_count": 27,
   "metadata": {},
   "outputs": [],
   "source": [
    "air_visit_data4$air_store_id <- as.factor(air_visit_data4$air_store_id)\n",
    "air_visit_data4$visit_month <- as.factor(air_visit_data4$visit_month)\n",
    "air_visit_data4$r_month_air <- as.factor(air_visit_data4$r_month_air)"
   ]
  },
  {
   "cell_type": "code",
   "execution_count": 28,
   "metadata": {},
   "outputs": [
    {
     "data": {
      "text/plain": [
       "               air_store_id     visit_date            visitors     \n",
       " air_8093d0b565e9dbdf: 2229   Min.   :2016-01-01   Min.   :  1.00  \n",
       " air_e55abd740f93ecc4: 1875   1st Qu.:2016-11-13   1st Qu.: 18.00  \n",
       " air_0a74a5408a0b8642: 1818   Median :2017-01-02   Median : 29.00  \n",
       " air_6d65542aa43b598b: 1410   Mean   :2016-11-30   Mean   : 32.83  \n",
       " air_de692863bb2dd758: 1342   3rd Qu.:2017-03-01   3rd Qu.: 44.00  \n",
       " air_326ca454ef3558bc: 1257   Max.   :2017-04-22   Max.   :239.00  \n",
       " (Other)             :77250                                        \n",
       "              air_genre_name \n",
       " Izakaya             :31610  \n",
       " Italian/French      :19697  \n",
       " Japanese food       : 9727  \n",
       " Dining bar          : 8039  \n",
       " Yakiniku/Korean food: 5616  \n",
       " Western food        : 4084  \n",
       " (Other)             : 8408  \n",
       "                                    air_area_name      day_of_week   \n",
       " TÅ\\215kyÅ\\215-to Shibuya-ku Shibuya             : 5830   Friday   :18677  \n",
       " HokkaidÅ\\215 Sapporo-shi Minami 3 JÅ\\215nishi   : 5556   Monday   : 7307  \n",
       " Hiroshima-ken Hiroshima-shi Kokutaijimachi: 5226   Saturday :20533  \n",
       " Shizuoka-ken Hamamatsu-shi MotoshirochÅ\\215  : 4840   Sunday   : 9857  \n",
       " Fukuoka-ken Fukuoka-shi DaimyÅ\\215           : 4768   Thursday :10974  \n",
       " Fukuoka-ken Fukuoka-shi Hakata Ekimae     : 4005   Tuesday  : 9153  \n",
       " (Other)                                   :56956   Wednesday:10680  \n",
       "     holiday_flg              visit_datetime_air reserve_datetime_air         \n",
       " Holiday   : 5577   2016-12-24 19:00:00:  246    Min.   :2016-01-01 00:00:00  \n",
       " No_holiday:81604   2016-12-29 18:00:00:  223    1st Qu.:2016-11-05 00:00:00  \n",
       "                    2017-02-04 19:00:00:  221    Median :2016-12-26 00:00:00  \n",
       "                    2016-12-17 18:00:00:  218    Mean   :2016-11-23 20:26:33  \n",
       "                    2016-12-24 18:00:00:  216    3rd Qu.:2017-02-24 00:00:00  \n",
       "                    2016-12-10 18:00:00:  213    Max.   :2017-04-22 00:00:00  \n",
       "                    (Other)            :85844                                 \n",
       " unreserved_visitors reserved_visitors time_gap_in_hours    Time_of_day   \n",
       " Min.   :-89.0       Min.   :  1.000   Min.   :   0.0    Morning  :  853  \n",
       " 1st Qu.: 14.0       1st Qu.:  2.000   1st Qu.:   0.0    Afternoon:  210  \n",
       " Median : 25.0       Median :  3.000   Median :  48.0    Evening  :41470  \n",
       " Mean   : 28.4       Mean   :  4.427   Mean   : 165.5    Night    :44648  \n",
       " 3rd Qu.: 39.0       3rd Qu.:  5.000   3rd Qu.: 168.0                     \n",
       " Max.   :222.0       Max.   :100.000   Max.   :9432.0                     \n",
       "                                                                          \n",
       "   visit_month      r_month_air   \n",
       " March   :17112   March   :16758  \n",
       " December:15557   February:13889  \n",
       " February:14403   January :13573  \n",
       " January :12556   December:13509  \n",
       " April   :11635   November:11776  \n",
       " November: 9971   April   :10154  \n",
       " (Other) : 5947   (Other) : 7522  "
      ]
     },
     "metadata": {},
     "output_type": "display_data"
    }
   ],
   "source": [
    "summary(air_visit_data4)"
   ]
  },
  {
   "cell_type": "markdown",
   "metadata": {},
   "source": [
    "# Visualization"
   ]
  },
  {
   "cell_type": "code",
   "execution_count": 29,
   "metadata": {},
   "outputs": [
    {
     "data": {
      "image/png": "[encoded data removed]",
      "text/plain": [
       "plot without title"
      ]
     },
     "metadata": {},
     "output_type": "display_data"
    }
   ],
   "source": [
    "options(repr.plot.width = 13, repr.plot.height = 6)\n",
    "plot1 <- ggplot(air_visit_data4, aes(x = visit_date, y= visitors)) +\n",
    "         geom_line(col = 'red') +\n",
    "         labs( x = 'Visit date', y = 'visitors', title = 'Overall visitors') +\n",
    "         theme(plot.title = element_text(hjust = 0.5, size = 12),\n",
    "         axis.title = element_text(size = 12),\n",
    "         axis.text.x = element_text(size = 10),\n",
    "         axis.text.y = element_text(size = 8),\n",
    "         axis.text = element_text(colour = 'black'))\n",
    " \n",
    "plot2 <- ggplot(air_visit_data4 %>% filter(visit_date <= '2016-07-01'), aes(x = visit_date, y= visitors)) + # before september 20, 2016\n",
    "         geom_line(col = 'red') +\n",
    "         labs( x = 'Visit date', y = 'visitors', title = 'Before july 2016') +\n",
    "         theme(plot.title = element_text(hjust = 0.5, size = 12),\n",
    "         axis.title = element_text(size = 12),\n",
    "         axis.text.x = element_text(size = 10),\n",
    "         axis.text.y = element_text(size = 8),\n",
    "         axis.text = element_text(colour = 'black'))\n",
    "\n",
    "plot3 <- ggplot(air_visit_data4 %>% filter(visit_date > '2016-11-01') , aes(x = visit_date, y= visitors)) + # after september 20, 2016\n",
    "         geom_line(col = 'red') +\n",
    "         labs( x = 'Visit date', y = 'visitors', title = 'After november 2016') +\n",
    "         theme(plot.title = element_text(hjust = 0.5, size = 12),\n",
    "         axis.title = element_text(size = 12),\n",
    "         axis.text.x = element_text(size = 10),\n",
    "         axis.text.y = element_text(size = 8),\n",
    "         axis.text = element_text(colour = 'black'))\n",
    "\n",
    "grid.arrange(plot1, plot2,plot3, nrow = 2, ncol = 2)"
   ]
  },
  {
   "cell_type": "code",
   "execution_count": 30,
   "metadata": {},
   "outputs": [
    {
     "data": {
      "image/png": "[encoded data removed]",
      "text/plain": [
       "plot without title"
      ]
     },
     "metadata": {},
     "output_type": "display_data"
    }
   ],
   "source": [
    "options(repr.plot.width = 13, repr.plot.height = 6)\n",
    "plot1 <- ggplot(air_visit_data4, aes(x = visit_date, y= unreserved_visitors)) +\n",
    "         geom_line(col = 'red') +\n",
    "         labs( x = 'Visit date', y = 'Unreserved visitors', title = 'Overall visitors') +\n",
    "         theme(plot.title = element_text(hjust = 0.5, size = 12),\n",
    "         axis.title = element_text(size = 12),\n",
    "         axis.text.x = element_text(size = 10),\n",
    "         axis.text.y = element_text(size = 8),\n",
    "         axis.text = element_text(colour = 'black'))\n",
    " \n",
    "plot2 <- ggplot(air_visit_data4 %>% filter(visit_date <= '2016-07-01'), aes(x = visit_date, y= unreserved_visitors)) + # before september 20, 2016\n",
    "         geom_line(col = 'red') +\n",
    "         labs( x = 'Visit date', y = 'Unreserved visitors', title = 'Before july 2016') +\n",
    "         theme(plot.title = element_text(hjust = 0.5, size = 12),\n",
    "         axis.title = element_text(size = 12),\n",
    "         axis.text.x = element_text(size = 10),\n",
    "         axis.text.y = element_text(size = 8),\n",
    "         axis.text = element_text(colour = 'black'))\n",
    "\n",
    "plot3 <- ggplot(air_visit_data4 %>% filter(visit_date > '2016-11-20') , aes(x = visit_date, y= unreserved_visitors)) + # after september 20, 2016\n",
    "         geom_line(col = 'red') +\n",
    "         labs( x = 'Visit date', y = 'Unreserved visitors', title = 'After november 2016') +\n",
    "         theme(plot.title = element_text(hjust = 0.5, size = 12),\n",
    "         axis.title = element_text(size = 12),\n",
    "         axis.text.x = element_text(size = 10),\n",
    "         axis.text.y = element_text(size = 8),\n",
    "         axis.text = element_text(colour = 'black'))\n",
    "\n",
    "grid.arrange(plot1, plot2,plot3, nrow = 2, ncol = 2)"
   ]
  },
  {
   "cell_type": "markdown",
   "metadata": {},
   "source": [
    "**Negative values in the unresereved visitors column indicates people not showing up to restaurant after reserving the place**"
   ]
  },
  {
   "cell_type": "code",
   "execution_count": 31,
   "metadata": {},
   "outputs": [
    {
     "data": {
      "image/png": "[encoded data removed]",
      "text/plain": [
       "plot without title"
      ]
     },
     "metadata": {},
     "output_type": "display_data"
    }
   ],
   "source": [
    "options(repr.plot.width = 13, repr.plot.height = 6)\n",
    "plot1 <- ggplot(air_visit_data4, aes(x = visit_date, y= reserved_visitors)) +\n",
    "         geom_line(col = 'red') +\n",
    "         labs( x = 'Visit date', y = 'Reserved visitors', title = 'Overall visitors') +\n",
    "         theme(plot.title = element_text(hjust = 0.5, size = 12),\n",
    "         axis.title = element_text(size = 12),\n",
    "         axis.text.x = element_text(size = 10),\n",
    "         axis.text.y = element_text(size = 8),\n",
    "         axis.text = element_text(colour = 'black'))\n",
    " \n",
    "plot2 <- ggplot(air_visit_data4 %>% filter(visit_date <= '2016-07-01'), aes(x = visit_date, y= reserved_visitors)) + # before september 20, 2016\n",
    "         geom_line(col = 'red') +\n",
    "         labs( x = 'Visit date', y = 'Reserved visitors', title = 'Before july 2016') +\n",
    "         theme(plot.title = element_text(hjust = 0.5, size = 12),\n",
    "         axis.title = element_text(size = 12),\n",
    "         axis.text.x = element_text(size = 10),\n",
    "         axis.text.y = element_text(size = 8),\n",
    "         axis.text = element_text(colour = 'black'))\n",
    "\n",
    "plot3 <- ggplot(air_visit_data4 %>% filter(visit_date > '2016-11-20') , aes(x = visit_date, y= reserved_visitors)) + # after september 20, 2016\n",
    "         geom_line(col = 'red') +\n",
    "         labs( x = 'Visit date', y = 'Reserved visitors', title = 'After november 2016') +\n",
    "         theme(plot.title = element_text(hjust = 0.5, size = 12),\n",
    "         axis.title = element_text(size = 12),\n",
    "         axis.text.x = element_text(size = 10),\n",
    "         axis.text.y = element_text(size = 8),\n",
    "         axis.text = element_text(colour = 'black'))\n",
    "\n",
    "grid.arrange(plot1, plot2,plot3, nrow = 2, ncol = 2)"
   ]
  },
  {
   "cell_type": "code",
   "execution_count": 32,
   "metadata": {
    "scrolled": false
   },
   "outputs": [
    {
     "name": "stderr",
     "output_type": "stream",
     "text": [
      "`stat_bin()` using `bins = 30`. Pick better value with `binwidth`.\n",
      "`stat_bin()` using `bins = 30`. Pick better value with `binwidth`.\n",
      "`stat_bin()` using `bins = 30`. Pick better value with `binwidth`.\n",
      "`stat_bin()` using `bins = 30`. Pick better value with `binwidth`.\n"
     ]
    },
    {
     "data": {
      "image/png": "[encoded data removed]",
      "text/plain": [
       "plot without title"
      ]
     },
     "metadata": {},
     "output_type": "display_data"
    }
   ],
   "source": [
    "options(repr.plot.width = 8, repr.plot.height = 3)\n",
    "\n",
    "plot1 <- ggplot(air_visit_data4, aes(reserved_visitors)) +\n",
    "         geom_histogram(fill = 'steelblue')\n",
    "plot2 <- ggplot(air_visit_data4, aes(unreserved_visitors)) +\n",
    "         geom_histogram(fill = 'steelblue')\n",
    "plot3 <- ggplot(air_visit_data4, aes(visitors)) +\n",
    "         geom_histogram(fill = 'steelblue')\n",
    "plot4 <- ggplot(air_visit_data4, aes(time_gap_in_hours)) +\n",
    "         geom_histogram(fill = 'steelblue')\n",
    "\n",
    "grid.arrange(plot1, plot2,plot3,plot4, nrow = 2, ncol = 2)"
   ]
  },
  {
   "cell_type": "markdown",
   "metadata": {},
   "source": [
    "**Above graphs shows the difference between the relationship between time gap (hpg reserve) vs visitors with and without outlier data**"
   ]
  },
  {
   "cell_type": "code",
   "execution_count": 33,
   "metadata": {},
   "outputs": [
    {
     "data": {
      "image/png": "[encoded data removed]",
      "text/plain": [
       "plot without title"
      ]
     },
     "metadata": {},
     "output_type": "display_data"
    }
   ],
   "source": [
    "options(repr.plot.width = 9, repr.plot.height = 3)\n",
    "g3 <- air_visit_data4 %>% group_by(Month = months.Date(visit_date))\n",
    "ggplot(g3, aes(reorder(Month,Month,function(x)-length(x)))) +\n",
    "geom_bar(fill = 'steelblue') +\n",
    "labs( x = 'Month', y = 'Number of stores', title = 'Stores Distribution') +\n",
    "theme(plot.title = element_text(hjust = 0.5, size = 12),\n",
    "axis.title = element_text(size = 12),\n",
    "axis.text.x = element_text(angle = 90, size = 10),\n",
    "axis.text.y = element_text(size = 8),\n",
    "panel.grid = element_blank(),\n",
    "panel.background = element_blank(),\n",
    "axis.text = element_text(colour = 'black')) +\n",
    "facet_wrap(~holiday_flg)"
   ]
  },
  {
   "cell_type": "code",
   "execution_count": 34,
   "metadata": {},
   "outputs": [
    {
     "data": {
      "image/png": "[encoded data removed]",
      "text/plain": [
       "plot without title"
      ]
     },
     "metadata": {},
     "output_type": "display_data"
    }
   ],
   "source": [
    "options(repr.plot.width = 7, repr.plot.height = 3)\n",
    "g1 <- air_visit_data4 %>% group_by(visit_date)\n",
    "ggplot(g1, aes(reorder(Time_of_day,Time_of_day,function(x)-length(x)))) +\n",
    "geom_bar(fill = 'steelblue') +\n",
    "labs( x = 'Time of day', y = 'Number of stores', title = 'Stores Distribution') +\n",
    "theme(plot.title = element_text(hjust = 0.5, size = 12),\n",
    "axis.title = element_text(size = 12),\n",
    "axis.text.x = element_text(angle = 90, size = 10),\n",
    "axis.text.y = element_text(size = 8),\n",
    "panel.grid = element_blank(),\n",
    "panel.background = element_blank(),\n",
    "axis.text = element_text(colour = 'black')) +\n",
    "facet_wrap(~holiday_flg)"
   ]
  },
  {
   "cell_type": "code",
   "execution_count": 35,
   "metadata": {},
   "outputs": [
    {
     "data": {
      "image/png": "[encoded data removed]",
      "text/plain": [
       "plot without title"
      ]
     },
     "metadata": {},
     "output_type": "display_data"
    }
   ],
   "source": [
    "options(repr.plot.width = 9, repr.plot.height = 3)\n",
    "\n",
    "plot1 <- ggplot(air_visit_data4 %>% group_by(air_genre_name) %>% summarise(Average_visitors = round(mean(visitors))) , \n",
    "                aes(air_genre_name, Average_visitors)) +\n",
    "         geom_bar(stat = \"identity\",fill = 'steelblue') +\n",
    "         coord_flip()\n",
    "\n",
    "plot2 <- ggplot(air_visit_data4 %>% group_by(air_genre_name) %>% summarise(Total_visitors = sum(visitors)), aes(air_genre_name, Total_visitors)) +\n",
    "         geom_bar(stat = \"identity\",fill = 'steelblue') +\n",
    "         scale_y_continuous(labels = scales::comma) +\n",
    "         coord_flip() \n",
    "\n",
    "grid.arrange(plot1, plot2, nrow = 1, ncol = 2)"
   ]
  },
  {
   "cell_type": "code",
   "execution_count": 36,
   "metadata": {},
   "outputs": [
    {
     "data": {
      "image/png": "[encoded data removed]",
      "text/plain": [
       "plot without title"
      ]
     },
     "metadata": {},
     "output_type": "display_data"
    }
   ],
   "source": [
    "options(repr.plot.width = 9, repr.plot.height = 3)\n",
    "\n",
    "plot1 <- ggplot(air_visit_data4, aes(r_month_air)) +\n",
    "         geom_bar(fill = 'steelblue') +\n",
    "         coord_flip()\n",
    "plot2 <- ggplot(air_visit_data4, aes(visit_month)) +\n",
    "         geom_bar(fill = 'steelblue') +\n",
    "         scale_y_continuous(labels = scales::comma) +\n",
    "         coord_flip() \n",
    "\n",
    "grid.arrange(plot1, plot2, nrow = 1, ncol = 2)"
   ]
  },
  {
   "cell_type": "markdown",
   "metadata": {},
   "source": [
    "**Japanese people are not visiting the restaurant in the month of august and september** "
   ]
  },
  {
   "cell_type": "code",
   "execution_count": 37,
   "metadata": {
    "scrolled": false
   },
   "outputs": [
    {
     "data": {
      "image/png": "[encoded data removed]",
      "text/plain": [
       "plot without title"
      ]
     },
     "metadata": {},
     "output_type": "display_data"
    }
   ],
   "source": [
    "options(repr.plot.width = 11, repr.plot.height = 6)\n",
    "\n",
    "plot1 <- ggplot(air_visit_data4 %>% group_by(visit_date) %>% summarise(Total_visitors = sum(visitors)),aes(visit_date, Total_visitors)) +\n",
    "         geom_line(col = 'red')\n",
    "\n",
    "plot3 <- ggplot(air_visit_data4 %>% group_by(visit_date) %>% summarise(Total_reserved = sum(reserved_visitors)),aes(visit_date, Total_reserved)) +\n",
    "         geom_line(col = 'red') +\n",
    "         coord_cartesian(ylim = c(0,80000))\n",
    "plot2 <- ggplot(air_visit_data4 %>% group_by(visit_date) %>% summarise(Total_unreserved = sum(unreserved_visitors)),aes(visit_date, Total_unreserved)) +\n",
    "         geom_line(col = 'red') +\n",
    "         coord_cartesian(ylim = c(0,80000)) \n",
    "\n",
    "grid.arrange(plot1, plot2, plot3, nrow = 2, ncol = 2)"
   ]
  },
  {
   "cell_type": "markdown",
   "metadata": {},
   "source": [
    "**From the above graph we can see most the restaurant visitors are not reserving the place, very few are doing the reservation**"
   ]
  },
  {
   "cell_type": "code",
   "execution_count": 38,
   "metadata": {},
   "outputs": [
    {
     "data": {
      "image/png": "[encoded data removed]",
      "text/plain": [
       "plot without title"
      ]
     },
     "metadata": {},
     "output_type": "display_data"
    }
   ],
   "source": [
    "options(repr.plot.width = 10, repr.plot.height = 3.5)\n",
    "\n",
    "plot1 <- ggplot(air_visit_data4 %>% group_by(day_of_week) %>% summarise(Tot_res_visitors = sum(reserved_visitors)), \n",
    "                aes(day_of_week, Tot_res_visitors)) +\n",
    "         geom_bar(stat = 'identity' ,fill = 'steelblue') \n",
    "plot2 <- ggplot(air_visit_data4 %>% group_by(day_of_week) %>% summarise(Tot_visitors = sum(visitors)), \n",
    "                aes(day_of_week, Tot_visitors)) +\n",
    "         geom_bar(stat = 'identity' ,fill = 'steelblue') +\n",
    "         scale_y_continuous(labels = scales::comma) \n",
    "\n",
    "grid.arrange(plot1, plot2,nrow = 1, ncol = 2)"
   ]
  },
  {
   "cell_type": "code",
   "execution_count": 39,
   "metadata": {},
   "outputs": [
    {
     "data": {
      "text/plain": [
       "\n",
       "air_8093d0b565e9dbdf air_e55abd740f93ecc4 air_0a74a5408a0b8642 \n",
       "                2229                 1875                 1818 \n",
       "air_6d65542aa43b598b air_de692863bb2dd758 air_326ca454ef3558bc \n",
       "                1410                 1342                 1257 \n",
       "air_03963426c9312048 air_483eba479dc9910d air_f911308e19d64236 \n",
       "                1239                 1232                 1173 \n",
       "air_3bb99a1fe0583897 air_24b9b2a020826ede air_5f6fa1b897fe80d5 \n",
       "                1158                 1120                 1113 \n",
       "air_6b15edd1b4fbb96a air_877f79706adbfb06 air_2cee51fa6fdf6c0d \n",
       "                1071                 1045                 1041 \n",
       "air_96743eee94114261 air_2d3afcb91762fe01 air_a083834e7ffe187e \n",
       "                 980                  951                  930 \n",
       "air_1408dd53f31a8a65 air_d6b3e67261f07646 air_af63df35857b16e6 \n",
       "                 906                  898                  865 \n",
       "air_7831b00996701c0f air_4092cfbd95a3ac1b air_3c05c8f26c611eb9 \n",
       "                 837                  831                  829 \n",
       "air_de803f7e324936b8 air_e7fbee4e3cfe65c5 air_9b6af3db40da4ae2 \n",
       "                 823                  816                  807 \n",
       "air_3cad29d1a23209d2 air_97b2a9f975fc702c air_290e7a57b390f78e \n",
       "                 796                  782                  777 \n",
       "air_42c9aa6d617c5057 air_a88ac559064dec08 air_2aab19554f91ff82 \n",
       "                 726                  709                  703 \n",
       "air_04cae7c1bc9b2a0b air_c0385db498b391e5 air_e053c561f32acc28 \n",
       "                 692                  687                  671 \n",
       "air_ee3a01f0c71a769f air_2a3743e37aab04b4 air_bfafaed35e213fd7 \n",
       "                 663                  659                  651 \n",
       "air_db80363d35f10926 air_965b2e0cf4119003 air_36429b5ca4407b3e \n",
       "                 642                  609                  608 \n",
       "air_97159fc4e90053fe air_4d21676ed11f0bac air_dea0655f96947922 \n",
       "                 597                  583                  581 \n",
       "air_683371d9baabf410 air_84f6876ff7e83ae7 air_a2b29aa7feb4e36f \n",
       "                 561                  561                  553 \n",
       "air_1033310359ceeac1 air_1eeff462acb24fb7 air_c47aa7493b15f297 \n",
       "                 549                  545                  542 \n",
       "air_670a0c1c4108bcea air_b23d0f519291247d air_3e93f3c81008696d \n",
       "                 525                  522                  520 \n",
       "air_db4b38ebe7a7ceff air_9d93d95720f2e831 air_4c727b55acdee495 \n",
       "                 519                  512                  511 \n",
       "air_cf5ab75a0afb8af9 air_26f10355d9b4d82a air_4beac252540f865e \n",
       "                 506                  499                  497 \n",
       "air_7ef9a5ea5c8fe39f air_c88467d88b2c8ecd air_2c6fef1ce0e13a5a \n",
       "                 491                  491                  487 \n",
       "air_56cebcbd6906e04c air_1707a3f18bb0da07 air_2fc478dc9f0a6b31 \n",
       "                 486                  485                  472 \n",
       "air_fa12b40b02fecfd8 air_c8a657c8c5c93d69 air_0f0cdeee6c9bf3d7 \n",
       "                 464                  462                  456 \n",
       "air_a38f25e3399d1b25 air_0b184ec04c741a6a air_bc991c51d6613745 \n",
       "                 449                  444                  438 \n",
       "air_346ade7d29230634 air_640cf4835f0d9ba3 air_632ba66e1f75aa28 \n",
       "                 430                  429                  421 \n",
       "air_4b55d8aea1d2b395 air_df554c4527a1cfe6 air_396166d47733d5c9 \n",
       "                 419                  419                  413 \n",
       "air_7db266904cb0d72a air_ccd19a5bc5573ae5 air_54ed43163b7596c4 \n",
       "                 412                  406                  405 \n",
       "air_f180301886c21375 air_f8233ad00755c35c air_20add8092c9bb51d \n",
       "                 400                  399                  397 \n",
       "air_32460819c7600037 air_142e78ba7001da9c air_6ca1d941c8199a67 \n",
       "                 395                  385                  380 \n",
       "air_97cf68dc1a9beac0 air_08cb3c4ee6cd6a22 air_9d452a881f7f2bb7 \n",
       "                 375                  370                  358 \n",
       "air_789466e488705c93 air_6ff5fca957798daa air_12c4fb7a423df20d \n",
       "                 355                  344                  337 \n",
       "air_622375b4815cf5cb air_bedd35489e666605 air_f690c42545146e0a \n",
       "                 335                  335                  332 \n",
       "air_710d6537cb7623df air_e00fe7853c0100d6 air_40f6193ea3ed1b91 \n",
       "                 331                  328                  320 \n",
       "air_6b9fa44a9cf504a1 air_b45b8e456f53942a air_db1233ad855b34d5 \n",
       "                 316                  313                  306 \n",
       "air_68c1de82037d87e6 air_614e2f7e76dff854 air_707d4b6328f2c2df \n",
       "                 299                  298                  294 \n",
       "air_55c3627912b9c849 air_a24bf50c3e90d583 air_6836438b543ba698 \n",
       "                 293                  286                  285 \n",
       "air_3440e0ea1b70a99b air_b9e27558fb8bd5c4 air_1653a6c513865af3 \n",
       "                 283                  281                  279 \n",
       "air_0867f7bebad6a649 air_a257c9749d8d0ff6 air_4481a87c1d7c9896 \n",
       "                 277                  276                  275 \n",
       "air_399904bdb7685ca0 air_89e7328af22efe74 air_de88770300008624 \n",
       "                 273                  273                  272 \n",
       "air_3c938075889fc059 air_67f87c159d9e2ee2 air_bb09595bab7d5cfb \n",
       "                 269                  267                  259 \n",
       "air_6c91a28278a16f64 air_ca6ae8d49a2f1eaf air_397d3f32a7196aa2 \n",
       "                 251                  248                  247 \n",
       "air_1f34e9beded2231a air_375a5241615b5e22 air_2b8b29ddfd35018e \n",
       "                 242                  239                  238 \n",
       "air_edd5e3d696a5811b air_43b65e4b05bff2d3 air_48f4da6223571da4 \n",
       "                 236                  234                  232 \n",
       "air_fe22ef5a9cbef123 air_8e492076a1179383 air_c6a164dd4060e960 \n",
       "                 228                  227                  226 \n",
       "air_c7f78b4f3cba33ff air_5a9a6cbeeb434c08 air_fc477473134e9ae5 \n",
       "                 225                  221                  221 \n",
       "air_a563896da3777078 air_b439391e72899756 air_7420042ff75f9aca \n",
       "                 219                  219                  216 \n",
       "air_ab3ae0e410b20069 air_c73d319ffabf287a air_324f7c39a8410e7c \n",
       "                 216                  215                  210 \n",
       "air_8b4a46dc521bfcfe air_673acd9fa5e0dd78 air_a9178f19da58fe99 \n",
       "                 210                  205                  187 \n",
       "air_83db5aff8f50478e air_9d474ec2448c700d air_ee3ba9af184c6c82 \n",
       "                 185                  183                  183 \n",
       "air_f068442ebb6c246c air_42d41eb58cad170e air_45326ebb8dc72cfb \n",
       "                 183                  182                  182 \n",
       "air_90f0efbb702d77b7 air_28064154614b2e6c air_4579cb0669fd411b \n",
       "                 179                  177                  177 \n",
       "air_0b1e72d2d4422b20 air_602ca92c0db34f8f air_b4f32bcc399da2b9 \n",
       "                 175                  170                  170 \n",
       "air_63a750d8b4b6a976 air_c2c8435bdb3516d4 air_fcd4492c83f1c6b9 \n",
       "                 164                  164                  159 \n",
       "air_b8a5ee69e5fdcc5b air_0e1eae99b8723bc1 air_cfcc94797d2b5d3d \n",
       "                 158                  152                  152 \n",
       "air_627cabe2fe53f33f air_ecf7f141339f1d57 air_7cc17a324ae5c7dc \n",
       "                 151                  151                  150 \n",
       "air_900d755ebd2f7bbd air_bf617aa68d5f1cfa air_eec5e572b9eb9c23 \n",
       "                 149                  149                  148 \n",
       "air_0164b9927d20bcc3 air_5acc13d655a6e8b2 air_938ef91ecdde6878 \n",
       "                 144                  139                  137 \n",
       "air_fea5dc9594450608 air_df9355c47c5df9d3 air_465bddfed3353b23 \n",
       "                 137                  135                  133 \n",
       "air_28dbe91c4c9656be air_754ae581ad80cc9f air_bebd55ed63ab2422 \n",
       "                 131                  120                  119 \n",
       "air_694571ea13fb9e0e air_7dacea2f22afccfb air_646b93e336f0dded \n",
       "                 117                  115                  114 \n",
       "air_b2395df0e874078d air_e270aff84ac7e4c8 air_2c989829acbd1c6b \n",
       "                 114                  114                  113 \n",
       "air_e89735e80d614a7e air_8f3b563416efc6ad air_96773a6236d279b1 \n",
       "                 105                  104                  103 \n",
       "air_2a485b92210c98b5 air_066f0221b8a4d533 air_9241121af22ff1d6 \n",
       "                  97                   95                   94 \n",
       "air_6b942d5ebbc759c2 air_ef789667e2e6fe96 air_23e1b11aee2a1407 \n",
       "                  91                   86                   82 \n",
       "air_b1bb1fae86617d7a air_c759b6abeb552160 air_cbe867adcf44e14f \n",
       "                  79                   79                   77 \n",
       "air_37189c92b6c761ec air_831658500aa7c846 air_08ef81d5b7a0d13f \n",
       "                  74                   74                   71 \n",
       "air_32b02ba5dc2027f4 air_7514d90009613cd6 air_9aa32b3db0fab3a5 \n",
       "                  71                   70                   68 \n",
       "air_6cbe54f0aa30b615 air_51281cd059d7b89b air_81c5dff692063446 \n",
       "                  67                   65                   65 \n",
       "air_9efaa7ded03c5a71 air_138ff410757b845f air_4cca5666eaf5c709 \n",
       "                  64                   63                   61 \n",
       "air_a510dcfe979f09eb air_25c583983246b7b0 air_1c0b150f9e696a5f \n",
       "                  58                   57                   56 \n",
       "air_082908692355165e air_33b01025210d6007 air_e5cf003abcc5febb \n",
       "                  55                   54                   53 \n",
       "air_5e70fe82f9e4fab6 air_e524c6a9e06cc3a1 air_bcce1ea4350b7b72 \n",
       "                  50                   49                   48 \n",
       "air_6ced51c24fb54262 air_c3585b0fba3998d0 air_63b13c56b7201bd9 \n",
       "                  47                   44                   43 \n",
       "air_f2c5a1f24279c531 air_a85f0c0c889f6b7e air_3980af67be35afdb \n",
       "                  37                   35                   34 \n",
       "air_99b01136f451fc0e air_4ce7b17062a1bf73 air_e0e69668214ff972 \n",
       "                  34                   31                   30 \n",
       "air_2c6c79d597e48096 air_90213bcae4afa274 air_97e0f2feec4d577a \n",
       "                  28                   28                   28 \n",
       "air_a17f0778617c76e2 air_fcfbdcf7b1f82c6e air_48ffd31594bc3263 \n",
       "                  28                   26                   25 \n",
       "air_70e9e8cd55879414 air_722297e7f26db91d air_5c817ef28f236bdf \n",
       "                  25                   24                   23 \n",
       "air_7c7774c66fb237f7 air_c225148c0fcc5c72 air_87f9e1024b951f01 \n",
       "                  23                   23                   22 \n",
       "air_258ad2619d7bff9a air_fdc02ec4a3d21ea4 air_8f273fb9ad2fed6f \n",
       "                  21                   19                   18 \n",
       "air_48e9fc98b62495a7 air_f96765e800907c77 air_034a3d5b40d5b1b1 \n",
       "                  17                   15                   14 \n",
       "air_54d6c25d33f5260e air_d500b48a8735fbd3 air_00a91d42b08b08d9 \n",
       "                  14                   13                   12 \n",
       "air_04341b588bde96cd air_b2d97bd2337c5ba7 air_cb7467aed805e7fe \n",
       "                  12                   12                   12 \n",
       "air_6b2268863b14a2af air_1dd8f6f47480d1a2 air_51319e7acf0438cf \n",
       "                  11                    9                    9 \n",
       "air_5f3a3ef4cba110a4 air_61de73b097513f58 air_b8925441167c3152 \n",
       "                   9                    9                    9 \n",
       "air_c8265ecc116f2284 air_a546cbf478a8b6e4 air_645cb18b33f938cf \n",
       "                   9                    8                    7 \n",
       "air_91beafbba9382b0a air_ade6e836ffd1da64 air_d477b6339b8ce69f \n",
       "                   7                    7                    7 \n",
       "air_9352c401d5adb01b air_af03c277a167b2bd air_68301bcb11e2f389 \n",
       "                   6                    6                    5 \n",
       "air_dc71c6cc06cd1aa2 air_06f95ac5c33aca10 air_638c35eb25e53eea \n",
       "                   5                    4                    4 \n",
       "air_97958e7fce98b6a3 air_b3a824511477a4ed air_d07e57b21109304a \n",
       "                   4                    4                    4 \n",
       "air_1ba4e87ef7422183 air_4433ab8e9999915f air_6b65745d432fd77f \n",
       "                   3                    3                    3 \n",
       "air_93ebe490d4abb8e9 air_aed3a8b49abe4a48 air_fbadf737162a5ce3 \n",
       "                   3                    3                    3 \n",
       "air_084d98859256acf0 air_10bbe8acd943d8f6 air_15ae33469e9ea2dd \n",
       "                   2                    2                    2 \n",
       "air_1d1e8860ae04f8e9 air_1f1390a8be2272b3 air_234d3dbf7f3d5a50 \n",
       "                   2                    2                    2 \n",
       "air_5bd22f9cc1426a90 air_8110d68cc869b85e air_876d7a23c47811cb \n",
       "                   2                    2                    2 \n",
       "air_9ca2767761efff4d air_a9133955abccf071 air_fee8dcf4d619598e \n",
       "                   2                    2                    2 \n",
       "air_256be208a979e023 air_2bffb19a24d11729 air_35512c42db0868da \n",
       "                   1                    1                    1 \n",
       "air_4de6d887a7b1c1fc air_5485912b44f976de air_629d9935273c82ae \n",
       "                   1                    1                    1 \n",
       "air_63e28ee0b0c955a7 air_859feab8e3c9f98d air_87467487d21891dd \n",
       "                   1                    1                    1 \n",
       "air_883ca28ef0ed3d55 air_8cc350fd70ee0757 air_93b9bb641f8fc982 \n",
       "                   1                    1                    1 \n",
       "air_950381108f839348 air_96005f79124e12bf air_a55d17bd3f3033cb \n",
       "                   1                    1                    1 \n",
       "air_ab9746a0f83084b7 air_b60cc7d6aee68194 air_cc35590cd1da8554 \n",
       "                   1                    1                    1 \n",
       "air_cf2229e64408d9fe air_d1418d6fd6d634f2 air_e01d99390355408d \n",
       "                   1                    1                    1 \n",
       "air_e657ca554b0c008c air_eca4a5a191e8d993 air_f0fb0975bdc2cdf9 \n",
       "                   1                    1                    1 "
      ]
     },
     "metadata": {},
     "output_type": "display_data"
    }
   ],
   "source": [
    "sort(table(air_visit_data4$air_store_id), decreasing = TRUE)"
   ]
  },
  {
   "cell_type": "code",
   "execution_count": 40,
   "metadata": {},
   "outputs": [
    {
     "data": {
      "text/html": [
       "<table>\n",
       "<thead><tr><th></th><th scope=col>air_store_id</th><th scope=col>visit_date</th><th scope=col>visitors</th><th scope=col>air_genre_name</th><th scope=col>air_area_name</th><th scope=col>day_of_week</th><th scope=col>holiday_flg</th><th scope=col>visit_datetime_air</th><th scope=col>reserve_datetime_air</th><th scope=col>unreserved_visitors</th><th scope=col>reserved_visitors</th><th scope=col>time_gap_in_hours</th><th scope=col>Time_of_day</th><th scope=col>visit_month</th><th scope=col>r_month_air</th></tr></thead>\n",
       "<tbody>\n",
       "\t<tr><th scope=row>1007</th><td>air_35512c42db0868da                    </td><td>2016-02-27                              </td><td> 6                                      </td><td>Dining bar                              </td><td>TÅkyÅ-to Musashino-shi MidorichÅ     </td><td>Saturday                                </td><td>No_holiday                              </td><td>2016-02-27 22:00:00                     </td><td>2016-02-27                              </td><td>-6                                      </td><td>12                                      </td><td> 0                                      </td><td>Night                                   </td><td>February                                </td><td>February                                </td></tr>\n",
       "\t<tr><th scope=row>3745</th><td>air_ee3a01f0c71a769f                    </td><td>2016-01-04                              </td><td>61                                      </td><td>Cafe/Sweets                             </td><td>Shizuoka-ken Hamamatsu-shi MotoshirochÅ</td><td>Monday                                  </td><td>No_holiday                              </td><td>2016-01-04 15:00:00                     </td><td>2016-01-04                              </td><td>59                                      </td><td> 2                                      </td><td> 0                                      </td><td>Evening                                 </td><td>January                                 </td><td>January                                 </td></tr>\n",
       "\t<tr><th scope=row>3748</th><td>air_ee3a01f0c71a769f                    </td><td>2016-01-08                              </td><td>21                                      </td><td>Cafe/Sweets                             </td><td>Shizuoka-ken Hamamatsu-shi MotoshirochÅ</td><td>Friday                                  </td><td>No_holiday                              </td><td>2016-01-08 19:00:00                     </td><td>2016-01-06                              </td><td>18                                      </td><td> 3                                      </td><td>48                                      </td><td>Night                                   </td><td>January                                 </td><td>January                                 </td></tr>\n",
       "\t<tr><th scope=row>3749</th><td>air_ee3a01f0c71a769f                    </td><td>2016-01-09                              </td><td>57                                      </td><td>Cafe/Sweets                             </td><td>Shizuoka-ken Hamamatsu-shi MotoshirochÅ</td><td>Saturday                                </td><td>No_holiday                              </td><td>2016-01-09 11:00:00                     </td><td>2016-01-06                              </td><td>56                                      </td><td> 1                                      </td><td>72                                      </td><td>Evening                                 </td><td>January                                 </td><td>January                                 </td></tr>\n",
       "\t<tr><th scope=row>3750</th><td>air_ee3a01f0c71a769f                    </td><td>2016-01-09                              </td><td>57                                      </td><td>Cafe/Sweets                             </td><td>Shizuoka-ken Hamamatsu-shi MotoshirochÅ</td><td>Saturday                                </td><td>No_holiday                              </td><td>2016-01-09 11:00:00                     </td><td>2016-01-07                              </td><td>55                                      </td><td> 2                                      </td><td>48                                      </td><td>Evening                                 </td><td>January                                 </td><td>January                                 </td></tr>\n",
       "\t<tr><th scope=row>3751</th><td>air_ee3a01f0c71a769f                    </td><td>2016-01-09                              </td><td>57                                      </td><td>Cafe/Sweets                             </td><td>Shizuoka-ken Hamamatsu-shi MotoshirochÅ</td><td>Saturday                                </td><td>No_holiday                              </td><td>2016-01-09 11:00:00                     </td><td>2016-01-08                              </td><td>54                                      </td><td> 3                                      </td><td>24                                      </td><td>Evening                                 </td><td>January                                 </td><td>January                                 </td></tr>\n",
       "</tbody>\n",
       "</table>\n"
      ],
      "text/latex": [
       "\\begin{tabular}{r|lllllllllllllll}\n",
       "  & air\\_store\\_id & visit\\_date & visitors & air\\_genre\\_name & air\\_area\\_name & day\\_of\\_week & holiday\\_flg & visit\\_datetime\\_air & reserve\\_datetime\\_air & unreserved\\_visitors & reserved\\_visitors & time\\_gap\\_in\\_hours & Time\\_of\\_day & visit\\_month & r\\_month\\_air\\\\\n",
       "\\hline\n",
       "\t1007 & air\\_35512c42db0868da                   & 2016-02-27                               &  6                                       & Dining bar                               & TÅkyÅ-to Musashino-shi MidorichÅ      & Saturday                                 & No\\_holiday                             & 2016-02-27 22:00:00                      & 2016-02-27                               & -6                                       & 12                                       &  0                                       & Night                                    & February                                 & February                                \\\\\n",
       "\t3745 & air\\_ee3a01f0c71a769f                   & 2016-01-04                               & 61                                       & Cafe/Sweets                              & Shizuoka-ken Hamamatsu-shi MotoshirochÅ & Monday                                   & No\\_holiday                             & 2016-01-04 15:00:00                      & 2016-01-04                               & 59                                       &  2                                       &  0                                       & Evening                                  & January                                  & January                                 \\\\\n",
       "\t3748 & air\\_ee3a01f0c71a769f                   & 2016-01-08                               & 21                                       & Cafe/Sweets                              & Shizuoka-ken Hamamatsu-shi MotoshirochÅ & Friday                                   & No\\_holiday                             & 2016-01-08 19:00:00                      & 2016-01-06                               & 18                                       &  3                                       & 48                                       & Night                                    & January                                  & January                                 \\\\\n",
       "\t3749 & air\\_ee3a01f0c71a769f                   & 2016-01-09                               & 57                                       & Cafe/Sweets                              & Shizuoka-ken Hamamatsu-shi MotoshirochÅ & Saturday                                 & No\\_holiday                             & 2016-01-09 11:00:00                      & 2016-01-06                               & 56                                       &  1                                       & 72                                       & Evening                                  & January                                  & January                                 \\\\\n",
       "\t3750 & air\\_ee3a01f0c71a769f                   & 2016-01-09                               & 57                                       & Cafe/Sweets                              & Shizuoka-ken Hamamatsu-shi MotoshirochÅ & Saturday                                 & No\\_holiday                             & 2016-01-09 11:00:00                      & 2016-01-07                               & 55                                       &  2                                       & 48                                       & Evening                                  & January                                  & January                                 \\\\\n",
       "\t3751 & air\\_ee3a01f0c71a769f                   & 2016-01-09                               & 57                                       & Cafe/Sweets                              & Shizuoka-ken Hamamatsu-shi MotoshirochÅ & Saturday                                 & No\\_holiday                             & 2016-01-09 11:00:00                      & 2016-01-08                               & 54                                       &  3                                       & 24                                       & Evening                                  & January                                  & January                                 \\\\\n",
       "\\end{tabular}\n"
      ],
      "text/markdown": [
       "\n",
       "| <!--/--> | air_store_id | visit_date | visitors | air_genre_name | air_area_name | day_of_week | holiday_flg | visit_datetime_air | reserve_datetime_air | unreserved_visitors | reserved_visitors | time_gap_in_hours | Time_of_day | visit_month | r_month_air |\n",
       "|---|---|---|---|---|---|---|---|---|---|---|---|---|---|---|---|\n",
       "| 1007 | air_35512c42db0868da                     | 2016-02-27                               |  6                                       | Dining bar                               | TÅkyÅ-to Musashino-shi MidorichÅ      | Saturday                                 | No_holiday                               | 2016-02-27 22:00:00                      | 2016-02-27                               | -6                                       | 12                                       |  0                                       | Night                                    | February                                 | February                                 |\n",
       "| 3745 | air_ee3a01f0c71a769f                     | 2016-01-04                               | 61                                       | Cafe/Sweets                              | Shizuoka-ken Hamamatsu-shi MotoshirochÅ | Monday                                   | No_holiday                               | 2016-01-04 15:00:00                      | 2016-01-04                               | 59                                       |  2                                       |  0                                       | Evening                                  | January                                  | January                                  |\n",
       "| 3748 | air_ee3a01f0c71a769f                     | 2016-01-08                               | 21                                       | Cafe/Sweets                              | Shizuoka-ken Hamamatsu-shi MotoshirochÅ | Friday                                   | No_holiday                               | 2016-01-08 19:00:00                      | 2016-01-06                               | 18                                       |  3                                       | 48                                       | Night                                    | January                                  | January                                  |\n",
       "| 3749 | air_ee3a01f0c71a769f                     | 2016-01-09                               | 57                                       | Cafe/Sweets                              | Shizuoka-ken Hamamatsu-shi MotoshirochÅ | Saturday                                 | No_holiday                               | 2016-01-09 11:00:00                      | 2016-01-06                               | 56                                       |  1                                       | 72                                       | Evening                                  | January                                  | January                                  |\n",
       "| 3750 | air_ee3a01f0c71a769f                     | 2016-01-09                               | 57                                       | Cafe/Sweets                              | Shizuoka-ken Hamamatsu-shi MotoshirochÅ | Saturday                                 | No_holiday                               | 2016-01-09 11:00:00                      | 2016-01-07                               | 55                                       |  2                                       | 48                                       | Evening                                  | January                                  | January                                  |\n",
       "| 3751 | air_ee3a01f0c71a769f                     | 2016-01-09                               | 57                                       | Cafe/Sweets                              | Shizuoka-ken Hamamatsu-shi MotoshirochÅ | Saturday                                 | No_holiday                               | 2016-01-09 11:00:00                      | 2016-01-08                               | 54                                       |  3                                       | 24                                       | Evening                                  | January                                  | January                                  |\n",
       "\n"
      ],
      "text/plain": [
       "     air_store_id         visit_date visitors air_genre_name\n",
       "1007 air_35512c42db0868da 2016-02-27  6       Dining bar    \n",
       "3745 air_ee3a01f0c71a769f 2016-01-04 61       Cafe/Sweets   \n",
       "3748 air_ee3a01f0c71a769f 2016-01-08 21       Cafe/Sweets   \n",
       "3749 air_ee3a01f0c71a769f 2016-01-09 57       Cafe/Sweets   \n",
       "3750 air_ee3a01f0c71a769f 2016-01-09 57       Cafe/Sweets   \n",
       "3751 air_ee3a01f0c71a769f 2016-01-09 57       Cafe/Sweets   \n",
       "     air_area_name                            day_of_week holiday_flg\n",
       "1007 TÅ\\215kyÅ\\215-to Musashino-shi MidorichÅ\\215      Saturday    No_holiday \n",
       "3745 Shizuoka-ken Hamamatsu-shi MotoshirochÅ\\215 Monday      No_holiday \n",
       "3748 Shizuoka-ken Hamamatsu-shi MotoshirochÅ\\215 Friday      No_holiday \n",
       "3749 Shizuoka-ken Hamamatsu-shi MotoshirochÅ\\215 Saturday    No_holiday \n",
       "3750 Shizuoka-ken Hamamatsu-shi MotoshirochÅ\\215 Saturday    No_holiday \n",
       "3751 Shizuoka-ken Hamamatsu-shi MotoshirochÅ\\215 Saturday    No_holiday \n",
       "     visit_datetime_air  reserve_datetime_air unreserved_visitors\n",
       "1007 2016-02-27 22:00:00 2016-02-27           -6                 \n",
       "3745 2016-01-04 15:00:00 2016-01-04           59                 \n",
       "3748 2016-01-08 19:00:00 2016-01-06           18                 \n",
       "3749 2016-01-09 11:00:00 2016-01-06           56                 \n",
       "3750 2016-01-09 11:00:00 2016-01-07           55                 \n",
       "3751 2016-01-09 11:00:00 2016-01-08           54                 \n",
       "     reserved_visitors time_gap_in_hours Time_of_day visit_month r_month_air\n",
       "1007 12                 0                Night       February    February   \n",
       "3745  2                 0                Evening     January     January    \n",
       "3748  3                48                Night       January     January    \n",
       "3749  1                72                Evening     January     January    \n",
       "3750  2                48                Evening     January     January    \n",
       "3751  3                24                Evening     January     January    "
      ]
     },
     "metadata": {},
     "output_type": "display_data"
    }
   ],
   "source": [
    "head(air_visit_data4)"
   ]
  },
  {
   "cell_type": "code",
   "execution_count": 41,
   "metadata": {},
   "outputs": [
    {
     "name": "stdout",
     "output_type": "stream",
     "text": [
      "'data.frame':\t87181 obs. of  15 variables:\n",
      " $ air_store_id        : Factor w/ 312 levels \"air_00a91d42b08b08d9\",..: 64 292 292 292 292 292 292 292 292 292 ...\n",
      " $ visit_date          : Date, format: \"2016-02-27\" \"2016-01-04\" ...\n",
      " $ visitors            : int  6 61 21 57 57 57 57 57 57 57 ...\n",
      " $ air_genre_name      : Factor w/ 14 levels \"Asian\",\"Bar/Cocktail\",..: 5 3 3 3 3 3 3 3 3 3 ...\n",
      " $ air_area_name       : Factor w/ 103 levels \"ÅŒsaka-fu ÅŒsaka-shi ÅŒgimachi\",..: 79 50 50 50 50 50 50 50 50 50 ...\n",
      " $ day_of_week         : Factor w/ 7 levels \"Friday\",\"Monday\",..: 3 2 1 3 3 3 3 3 3 3 ...\n",
      " $ holiday_flg         : Factor w/ 2 levels \"Holiday\",\"No_holiday\": 2 2 2 2 2 2 2 2 2 2 ...\n",
      " $ visit_datetime_air  : Factor w/ 4975 levels \"2016-01-01 19:00:00\",..: 621 17 59 67 67 67 69 69 70 71 ...\n",
      " $ reserve_datetime_air: POSIXct, format: \"2016-02-27\" \"2016-01-04\" ...\n",
      " $ unreserved_visitors : int  -6 59 18 56 55 54 55 55 55 55 ...\n",
      " $ reserved_visitors   : int  12 2 3 1 2 3 2 2 2 2 ...\n",
      " $ time_gap_in_hours   : num  0 0 48 72 48 24 0 192 72 48 ...\n",
      " $ Time_of_day         : Factor w/ 4 levels \"Morning\",\"Afternoon\",..: 4 3 4 3 3 3 3 3 3 3 ...\n",
      " $ visit_month         : Factor w/ 12 levels \"April\",\"August\",..: 4 5 5 5 5 5 5 5 5 5 ...\n",
      " $ r_month_air         : Factor w/ 12 levels \"April\",\"August\",..: 4 5 5 5 5 5 5 5 5 5 ...\n",
      " - attr(*, \"na.action\")= 'omit' Named int  1 2 3 4 5 6 7 8 9 10 ...\n",
      "  ..- attr(*, \"names\")= chr  \"1\" \"2\" \"3\" \"4\" ...\n"
     ]
    }
   ],
   "source": [
    "str(air_visit_data4)"
   ]
  },
  {
   "cell_type": "code",
   "execution_count": 42,
   "metadata": {},
   "outputs": [
    {
     "data": {
      "text/plain": [
       "\n",
       "             Izakaya       Italian/French        Japanese food \n",
       "               31610                19697                 9727 \n",
       "          Dining bar Yakiniku/Korean food \n",
       "                8039                 5616 "
      ]
     },
     "metadata": {},
     "output_type": "display_data"
    }
   ],
   "source": [
    "sort(table(air_visit_data4$air_genre_name), decreasing = TRUE)[1:5]"
   ]
  },
  {
   "cell_type": "code",
   "execution_count": null,
   "metadata": {},
   "outputs": [],
   "source": []
  },
  {
   "cell_type": "markdown",
   "metadata": {},
   "source": [
    "# Data Split"
   ]
  },
  {
   "cell_type": "code",
   "execution_count": 46,
   "metadata": {},
   "outputs": [],
   "source": [
    "# since there is a random fluctuation after july to november, we are going to use the data after september 2016 for forecasting\n",
    "# we are going to forecast the total visitors and average visitors count.\n",
    "avg_visitors_data <- air_visit_data4 %>% filter(visit_date > '2016-11-01') %>% group_by(visit_date) %>% \n",
    "         summarise(avg_visitors = round(mean(visitors)))"
   ]
  },
  {
   "cell_type": "code",
   "execution_count": 47,
   "metadata": {},
   "outputs": [],
   "source": [
    "train1 <- avg_visitors_data %>% filter(visit_date <= '2017-03-01')\n",
    "test1 <- avg_visitors_data %>% filter(visit_date > '2017-03-01')"
   ]
  },
  {
   "cell_type": "code",
   "execution_count": null,
   "metadata": {},
   "outputs": [],
   "source": [
    "str(test)"
   ]
  },
  {
   "cell_type": "markdown",
   "metadata": {},
   "source": [
    "# ARIMA"
   ]
  },
  {
   "cell_type": "code",
   "execution_count": 49,
   "metadata": {},
   "outputs": [],
   "source": [
    "arima_model1 <- arima(train1$avg_visitors, order=c(0,0,1), seasonal= list(order=c(1,0,0), period = 7)) # average visitors"
   ]
  },
  {
   "cell_type": "code",
   "execution_count": 50,
   "metadata": {},
   "outputs": [],
   "source": [
    "library(tseries)\n"
   ]
  },
  {
   "cell_type": "code",
   "execution_count": 51,
   "metadata": {},
   "outputs": [],
   "source": [
    "Diff <- diff(train1$avg_visitors, lag = 7)"
   ]
  },
  {
   "cell_type": "code",
   "execution_count": 52,
   "metadata": {},
   "outputs": [
    {
     "data": {
      "image/png": "[encoded data removed]",
      "text/plain": [
       "plot without title"
      ]
     },
     "metadata": {},
     "output_type": "display_data"
    }
   ],
   "source": [
    "plot.ts(Diff)"
   ]
  },
  {
   "cell_type": "code",
   "execution_count": 53,
   "metadata": {},
   "outputs": [
    {
     "data": {
      "text/plain": [
       "\n",
       "\tAugmented Dickey-Fuller Test\n",
       "\n",
       "data:  Diff\n",
       "Dickey-Fuller = -3.2957, Lag order = 4, p-value = 0.07545\n",
       "alternative hypothesis: stationary\n"
      ]
     },
     "metadata": {},
     "output_type": "display_data"
    }
   ],
   "source": [
    "adf.test(Diff)"
   ]
  },
  {
   "cell_type": "code",
   "execution_count": 54,
   "metadata": {},
   "outputs": [
    {
     "data": {
      "image/png": "[encoded data removed]",
      "text/plain": [
       "plot without title"
      ]
     },
     "metadata": {},
     "output_type": "display_data"
    }
   ],
   "source": [
    "diff2 <- diff(train1$avg_visitors, lag = 1)\n",
    "plot.ts(diff2)"
   ]
  },
  {
   "cell_type": "code",
   "execution_count": 55,
   "metadata": {},
   "outputs": [
    {
     "name": "stderr",
     "output_type": "stream",
     "text": [
      "Warning message in adf.test(diff2):\n",
      "\"p-value smaller than printed p-value\""
     ]
    },
    {
     "data": {
      "text/plain": [
       "\n",
       "\tAugmented Dickey-Fuller Test\n",
       "\n",
       "data:  diff2\n",
       "Dickey-Fuller = -10.499, Lag order = 4, p-value = 0.01\n",
       "alternative hypothesis: stationary\n"
      ]
     },
     "metadata": {},
     "output_type": "display_data"
    }
   ],
   "source": [
    "adf.test(diff2)"
   ]
  },
  {
   "cell_type": "code",
   "execution_count": 56,
   "metadata": {},
   "outputs": [
    {
     "data": {
      "image/png": "[encoded data removed]",
      "text/plain": [
       "Plot with title \"Series  diff2\""
      ]
     },
     "metadata": {},
     "output_type": "display_data"
    }
   ],
   "source": [
    "acf(diff2)"
   ]
  },
  {
   "cell_type": "code",
   "execution_count": 57,
   "metadata": {},
   "outputs": [
    {
     "data": {
      "image/png": "[encoded data removed]",
      "text/plain": [
       "Plot with title \"Series  diff2\""
      ]
     },
     "metadata": {},
     "output_type": "display_data"
    }
   ],
   "source": [
    "pacf(diff2)"
   ]
  },
  {
   "cell_type": "code",
   "execution_count": 58,
   "metadata": {},
   "outputs": [],
   "source": [
    "arima.fit <- auto.arima(tsclean(ts(train1$avg_visitors, frequency = 7)),\n",
    "                        stepwise = FALSE, approximation = FALSE)"
   ]
  },
  {
   "cell_type": "code",
   "execution_count": 59,
   "metadata": {},
   "outputs": [
    {
     "data": {
      "text/html": [
       "794.178535356149"
      ],
      "text/latex": [
       "794.178535356149"
      ],
      "text/markdown": [
       "794.178535356149"
      ],
      "text/plain": [
       "[1] 794.1785"
      ]
     },
     "metadata": {},
     "output_type": "display_data"
    }
   ],
   "source": [
    "AIC(arima.fit)"
   ]
  },
  {
   "cell_type": "code",
   "execution_count": 60,
   "metadata": {},
   "outputs": [
    {
     "name": "stdout",
     "output_type": "stream",
     "text": [
      "Series: tsclean(ts(train1$avg_visitors, frequency = 7)) \n",
      "ARIMA(0,0,1)(1,0,0)[7] with non-zero mean \n",
      "\n",
      "Coefficients:\n",
      "         ma1    sar1     mean\n",
      "      0.6962  0.4405  30.4162\n",
      "s.e.  0.0598  0.0832   1.6753\n",
      "\n",
      "sigma^2 estimated as 41.27:  log likelihood=-393.09\n",
      "AIC=794.18   AICc=794.53   BIC=805.33\n",
      "\n",
      "Training set error measures:\n",
      "                     ME     RMSE     MAE       MPE     MAPE      MASE\n",
      "Training set 0.04002186 6.343709 4.22554 -3.767292 13.94488 0.8134344\n",
      "                   ACF1\n",
      "Training set 0.05449304\n"
     ]
    }
   ],
   "source": [
    "summary(arima.fit)"
   ]
  },
  {
   "cell_type": "code",
   "execution_count": 61,
   "metadata": {},
   "outputs": [
    {
     "data": {
      "text/plain": [
       "\n",
       "\tBox-Ljung test\n",
       "\n",
       "data:  arima.fit$residuals\n",
       "X-squared = 0.36532, df = 1, p-value = 0.5456\n"
      ]
     },
     "metadata": {},
     "output_type": "display_data"
    }
   ],
   "source": [
    "Box.test(arima.fit$residuals, type = \"Ljung\")"
   ]
  },
  {
   "cell_type": "code",
   "execution_count": 62,
   "metadata": {},
   "outputs": [
    {
     "data": {
      "image/png": "[encoded data removed]",
      "text/plain": [
       "plot without title"
      ]
     },
     "metadata": {},
     "output_type": "display_data"
    }
   ],
   "source": [
    "plot(arima.fit$residuals)"
   ]
  },
  {
   "cell_type": "code",
   "execution_count": 63,
   "metadata": {},
   "outputs": [
    {
     "data": {
      "text/html": [
       "794.178535356149"
      ],
      "text/latex": [
       "794.178535356149"
      ],
      "text/markdown": [
       "794.178535356149"
      ],
      "text/plain": [
       "[1] 794.1785"
      ]
     },
     "metadata": {},
     "output_type": "display_data"
    }
   ],
   "source": [
    "AIC(arima.fit)"
   ]
  },
  {
   "cell_type": "code",
   "execution_count": 64,
   "metadata": {},
   "outputs": [],
   "source": [
    "par(mfrow=c(2,1))"
   ]
  },
  {
   "cell_type": "code",
   "execution_count": 65,
   "metadata": {},
   "outputs": [
    {
     "data": {
      "image/png": "[encoded data removed]",
      "text/plain": [
       "Plot with title \"auto.arima\""
      ]
     },
     "metadata": {},
     "output_type": "display_data"
    }
   ],
   "source": [
    "plot(forecast(arima.fit, h = 21), main = \"auto.arima\")"
   ]
  },
  {
   "cell_type": "code",
   "execution_count": 66,
   "metadata": {},
   "outputs": [
    {
     "data": {
      "text/plain": [
       "         Point Forecast    Lo 80    Hi 80    Lo 95    Hi 95\n",
       "18.14286       27.15222 18.91886 35.38558 14.56038 39.74406\n",
       "18.28571       32.87612 22.84397 42.90826 17.53328 48.21896\n",
       "18.42857       35.51938 25.48724 45.55153 20.17654 50.86223\n",
       "18.57143       33.31666 23.28452 43.34881 17.97382 48.65951\n",
       "18.71429       27.14905 17.11690 37.18119 11.80620 42.49189\n",
       "18.85714       27.58959 17.55744 37.62174 12.24675 42.93243\n",
       "19.00000       28.91122 18.87908 38.94337 13.56838 44.25407\n",
       "19.14286       28.97828 18.31056 39.64600 12.66341 45.29315\n",
       "19.28571       31.49991 20.53739 42.46243 14.73419 48.26564\n",
       "19.42857       32.66439 21.70187 43.62690 15.89866 49.43011\n",
       "19.57143       31.69399 20.73147 42.65651 14.92826 48.45972\n",
       "19.71429       28.97688 18.01436 39.93940 12.21116 45.74261\n",
       "19.85714       29.17096 18.20844 40.13348 12.40524 45.93669\n",
       "20.00000       29.75320 18.79068 40.71572 12.98747 46.51893\n",
       "20.14286       29.78274 18.70438 40.86111 12.83984 46.72564\n",
       "20.28571       30.89363 19.75955 42.02771 13.86552 47.92174\n",
       "20.42857       31.40663 20.27255 42.54071 14.37853 48.43474\n",
       "20.57143       30.97913 19.84505 42.11321 13.95103 48.00724\n",
       "20.71429       29.78213 18.64805 40.91621 12.75402 46.81023\n",
       "20.85714       29.86763 18.73355 41.00171 12.83952 46.89573\n",
       "21.00000       30.12413 18.99005 41.25821 13.09602 47.15223"
      ]
     },
     "metadata": {},
     "output_type": "display_data"
    }
   ],
   "source": [
    "forecast(arima.fit, h = 21)"
   ]
  },
  {
   "cell_type": "code",
   "execution_count": 67,
   "metadata": {
    "scrolled": true
   },
   "outputs": [
    {
     "data": {
      "text/html": [
       "<pre class=language-r><code>function (object, ...) \n",
       "UseMethod(\"forecast\")</code></pre>"
      ],
      "text/latex": [
       "\\begin{minted}{r}\n",
       "function (object, ...) \n",
       "UseMethod(\"forecast\")\n",
       "\\end{minted}"
      ],
      "text/markdown": [
       "```r\n",
       "function (object, ...) \n",
       "UseMethod(\"forecast\")\n",
       "```"
      ],
      "text/plain": [
       "function (object, ...) \n",
       "UseMethod(\"forecast\")\n",
       "<bytecode: 0x000000004c032068>\n",
       "<environment: namespace:forecast>"
      ]
     },
     "metadata": {},
     "output_type": "display_data"
    }
   ],
   "source": [
    "forecast"
   ]
  },
  {
   "cell_type": "code",
   "execution_count": 68,
   "metadata": {},
   "outputs": [
    {
     "data": {
      "image/png": "[encoded data removed]",
      "text/plain": [
       "Plot with title \"Forecasts from ARIMA(0,0,1)(1,0,0)[7] with non-zero mean\""
      ]
     },
     "metadata": {},
     "output_type": "display_data"
    }
   ],
   "source": [
    "plot(forecast(arima_model1, h = 21))"
   ]
  },
  {
   "cell_type": "code",
   "execution_count": 72,
   "metadata": {
    "scrolled": true
   },
   "outputs": [
    {
     "data": {
      "text/html": [
       "<table>\n",
       "<thead><tr><th></th><th scope=col>ME</th><th scope=col>RMSE</th><th scope=col>MAE</th><th scope=col>MPE</th><th scope=col>MAPE</th><th scope=col>MASE</th><th scope=col>ACF1</th></tr></thead>\n",
       "<tbody>\n",
       "\t<tr><th scope=row>Training set</th><td>0.04002186</td><td>6.343709  </td><td>4.22554   </td><td>-3.767292 </td><td>13.94488  </td><td>0.6200238 </td><td>0.05449304</td></tr>\n",
       "</tbody>\n",
       "</table>\n"
      ],
      "text/latex": [
       "\\begin{tabular}{r|lllllll}\n",
       "  & ME & RMSE & MAE & MPE & MAPE & MASE & ACF1\\\\\n",
       "\\hline\n",
       "\tTraining set & 0.04002186 & 6.343709   & 4.22554    & -3.767292  & 13.94488   & 0.6200238  & 0.05449304\\\\\n",
       "\\end{tabular}\n"
      ],
      "text/markdown": [
       "\n",
       "| <!--/--> | ME | RMSE | MAE | MPE | MAPE | MASE | ACF1 |\n",
       "|---|---|---|---|---|---|---|---|\n",
       "| Training set | 0.04002186 | 6.343709   | 4.22554    | -3.767292  | 13.94488   | 0.6200238  | 0.05449304 |\n",
       "\n"
      ],
      "text/plain": [
       "             ME         RMSE     MAE     MPE       MAPE     MASE     \n",
       "Training set 0.04002186 6.343709 4.22554 -3.767292 13.94488 0.6200238\n",
       "             ACF1      \n",
       "Training set 0.05449304"
      ]
     },
     "metadata": {},
     "output_type": "display_data"
    }
   ],
   "source": [
    "accuracy(arima_model1)"
   ]
  },
  {
   "cell_type": "markdown",
   "metadata": {},
   "source": [
    "# Exponential Smoothing"
   ]
  },
  {
   "cell_type": "code",
   "execution_count": 74,
   "metadata": {},
   "outputs": [],
   "source": [
    "ses_model1 <- ets(train1$avg_visitors)"
   ]
  },
  {
   "cell_type": "code",
   "execution_count": 75,
   "metadata": {
    "scrolled": true
   },
   "outputs": [
    {
     "data": {
      "text/plain": [
       "ETS(M,N,N) \n",
       "\n",
       "Call:\n",
       " ets(y = train1$avg_visitors) \n",
       "\n",
       "  Smoothing parameters:\n",
       "    alpha = 0.8378 \n",
       "\n",
       "  Initial states:\n",
       "    l = 27.5771 \n",
       "\n",
       "  sigma:  0.2721\n",
       "\n",
       "     AIC     AICc      BIC \n",
       "1078.209 1078.416 1086.572 "
      ]
     },
     "metadata": {},
     "output_type": "display_data"
    }
   ],
   "source": [
    "ses_model1"
   ]
  },
  {
   "cell_type": "code",
   "execution_count": 76,
   "metadata": {},
   "outputs": [],
   "source": [
    "fcast_ses_model1 <- forecast(ses_model1, h = 4)"
   ]
  },
  {
   "cell_type": "code",
   "execution_count": 77,
   "metadata": {},
   "outputs": [
    {
     "data": {
      "text/plain": [
       "       ME                RMSE            MAE             MPE        \n",
       " Min.   :-0.01022   Min.   :8.932   Min.   :6.791   Min.   :-4.786  \n",
       " 1st Qu.:-0.01022   1st Qu.:8.932   1st Qu.:6.791   1st Qu.:-4.786  \n",
       " Median :-0.01022   Median :8.932   Median :6.791   Median :-4.786  \n",
       " Mean   :-0.01022   Mean   :8.932   Mean   :6.791   Mean   :-4.786  \n",
       " 3rd Qu.:-0.01022   3rd Qu.:8.932   3rd Qu.:6.791   3rd Qu.:-4.786  \n",
       " Max.   :-0.01022   Max.   :8.932   Max.   :6.791   Max.   :-4.786  \n",
       "      MAPE            MASE             ACF1       \n",
       " Min.   :23.12   Min.   :0.9965   Min.   :0.1158  \n",
       " 1st Qu.:23.12   1st Qu.:0.9965   1st Qu.:0.1158  \n",
       " Median :23.12   Median :0.9965   Median :0.1158  \n",
       " Mean   :23.12   Mean   :0.9965   Mean   :0.1158  \n",
       " 3rd Qu.:23.12   3rd Qu.:0.9965   3rd Qu.:0.1158  \n",
       " Max.   :23.12   Max.   :0.9965   Max.   :0.1158  "
      ]
     },
     "metadata": {},
     "output_type": "display_data"
    }
   ],
   "source": [
    "summary(accuracy(fcast_ses_model1))"
   ]
  },
  {
   "cell_type": "code",
   "execution_count": 78,
   "metadata": {},
   "outputs": [
    {
     "data": {
      "image/png": "[encoded data removed]",
      "text/plain": [
       "Plot with title \"Forecasts from ETS(M,N,N)\""
      ]
     },
     "metadata": {},
     "output_type": "display_data"
    }
   ],
   "source": [
    "plot(fcast_ses_model1)"
   ]
  },
  {
   "cell_type": "code",
   "execution_count": 79,
   "metadata": {},
   "outputs": [
    {
     "data": {
      "text/html": [
       "<table>\n",
       "<thead><tr><th></th><th scope=col>ME</th><th scope=col>RMSE</th><th scope=col>MAE</th><th scope=col>MPE</th><th scope=col>MAPE</th><th scope=col>MASE</th><th scope=col>ACF1</th></tr></thead>\n",
       "<tbody>\n",
       "\t<tr><th scope=row>Training set</th><td>-0.01022291</td><td>8.931624   </td><td>6.791438   </td><td>-4.786338  </td><td>23.11651   </td><td>0.9965242  </td><td>0.1158078  </td></tr>\n",
       "</tbody>\n",
       "</table>\n"
      ],
      "text/latex": [
       "\\begin{tabular}{r|lllllll}\n",
       "  & ME & RMSE & MAE & MPE & MAPE & MASE & ACF1\\\\\n",
       "\\hline\n",
       "\tTraining set & -0.01022291 & 8.931624    & 6.791438    & -4.786338   & 23.11651    & 0.9965242   & 0.1158078  \\\\\n",
       "\\end{tabular}\n"
      ],
      "text/markdown": [
       "\n",
       "| <!--/--> | ME | RMSE | MAE | MPE | MAPE | MASE | ACF1 |\n",
       "|---|---|---|---|---|---|---|---|\n",
       "| Training set | -0.01022291 | 8.931624    | 6.791438    | -4.786338   | 23.11651    | 0.9965242   | 0.1158078   |\n",
       "\n"
      ],
      "text/plain": [
       "             ME          RMSE     MAE      MPE       MAPE     MASE     \n",
       "Training set -0.01022291 8.931624 6.791438 -4.786338 23.11651 0.9965242\n",
       "             ACF1     \n",
       "Training set 0.1158078"
      ]
     },
     "metadata": {},
     "output_type": "display_data"
    }
   ],
   "source": [
    "accuracy(fcast_ses_model1)"
   ]
  },
  {
   "cell_type": "code",
   "execution_count": 80,
   "metadata": {},
   "outputs": [
    {
     "name": "stdout",
     "output_type": "stream",
     "text": [
      "ETS(M,N,N) \n",
      "\n",
      "Call:\n",
      " ets(y = train1$avg_visitors) \n",
      "\n",
      "  Smoothing parameters:\n",
      "    alpha = 0.8378 \n",
      "\n",
      "  Initial states:\n",
      "    l = 27.5771 \n",
      "\n",
      "  sigma:  0.2721\n",
      "\n",
      "     AIC     AICc      BIC \n",
      "1078.209 1078.416 1086.572 \n",
      "\n",
      "Training set error measures:\n",
      "                      ME     RMSE      MAE       MPE     MAPE      MASE\n",
      "Training set -0.01022291 8.931624 6.791438 -4.786338 23.11651 0.9965242\n",
      "                  ACF1\n",
      "Training set 0.1158078\n"
     ]
    }
   ],
   "source": [
    "summary(ses_model1)"
   ]
  },
  {
   "cell_type": "code",
   "execution_count": null,
   "metadata": {},
   "outputs": [],
   "source": []
  },
  {
   "cell_type": "code",
   "execution_count": 81,
   "metadata": {},
   "outputs": [
    {
     "data": {
      "text/html": [
       "<table>\n",
       "<thead><tr><th></th><th scope=col>ME</th><th scope=col>RMSE</th><th scope=col>MAE</th><th scope=col>MPE</th><th scope=col>MAPE</th><th scope=col>MASE</th><th scope=col>ACF1</th></tr></thead>\n",
       "<tbody>\n",
       "\t<tr><th scope=row>Training set</th><td>-0.01022291</td><td>8.931624   </td><td>6.791438   </td><td>-4.786338  </td><td>23.11651   </td><td>0.9965242  </td><td>0.1158078  </td></tr>\n",
       "</tbody>\n",
       "</table>\n"
      ],
      "text/latex": [
       "\\begin{tabular}{r|lllllll}\n",
       "  & ME & RMSE & MAE & MPE & MAPE & MASE & ACF1\\\\\n",
       "\\hline\n",
       "\tTraining set & -0.01022291 & 8.931624    & 6.791438    & -4.786338   & 23.11651    & 0.9965242   & 0.1158078  \\\\\n",
       "\\end{tabular}\n"
      ],
      "text/markdown": [
       "\n",
       "| <!--/--> | ME | RMSE | MAE | MPE | MAPE | MASE | ACF1 |\n",
       "|---|---|---|---|---|---|---|---|\n",
       "| Training set | -0.01022291 | 8.931624    | 6.791438    | -4.786338   | 23.11651    | 0.9965242   | 0.1158078   |\n",
       "\n"
      ],
      "text/plain": [
       "             ME          RMSE     MAE      MPE       MAPE     MASE     \n",
       "Training set -0.01022291 8.931624 6.791438 -4.786338 23.11651 0.9965242\n",
       "             ACF1     \n",
       "Training set 0.1158078"
      ]
     },
     "metadata": {},
     "output_type": "display_data"
    }
   ],
   "source": [
    "accuracy(ses_model1)"
   ]
  },
  {
   "cell_type": "markdown",
   "metadata": {},
   "source": [
    "**since we have weekly trend, exponential smoothing performs very bad for average visitors forecasting....**"
   ]
  },
  {
   "cell_type": "markdown",
   "metadata": {},
   "source": [
    "# HoltWinters method"
   ]
  },
  {
   "cell_type": "code",
   "execution_count": 85,
   "metadata": {},
   "outputs": [],
   "source": [
    "hw2 <- HoltWinters(tsclean(ts(train1$avg_visitors, frequency = 7)))"
   ]
  },
  {
   "cell_type": "code",
   "execution_count": 86,
   "metadata": {},
   "outputs": [],
   "source": [
    "pred1 <- predict(hw2, n.ahead = 50, prediction.interval = T, level = 0.95)"
   ]
  },
  {
   "cell_type": "code",
   "execution_count": 87,
   "metadata": {},
   "outputs": [
    {
     "data": {
      "image/png": "[encoded data removed]",
      "text/plain": [
       "Plot with title \"Holt-Winters filtering\""
      ]
     },
     "metadata": {},
     "output_type": "display_data"
    }
   ],
   "source": [
    "plot(hw2, pred1)"
   ]
  },
  {
   "cell_type": "code",
   "execution_count": 90,
   "metadata": {},
   "outputs": [
    {
     "name": "stdout",
     "output_type": "stream",
     "text": [
      "Root mean squared error is  6.63887"
     ]
    }
   ],
   "source": [
    "sse2 <- hw2$SSE\n",
    "mse2 <- sse2/nrow(train1)\n",
    "rmse2 <- sqrt(mse2)\n",
    "cat('Root mean squared error is ', rmse2)"
   ]
  },
  {
   "cell_type": "markdown",
   "metadata": {},
   "source": [
    "# Data split for tree"
   ]
  },
  {
   "cell_type": "code",
   "execution_count": 91,
   "metadata": {},
   "outputs": [
    {
     "data": {
      "text/plain": [
       "                target   predictor\n",
       "2016-11-03 -0.10000000  0.00000000\n",
       "2016-11-04  0.03703704 -0.10000000\n",
       "2016-11-05  0.28571429  0.03703704"
      ]
     },
     "metadata": {},
     "output_type": "display_data"
    },
    {
     "name": "stdout",
     "output_type": "stream",
     "text": [
      "An 'xts' object on 2016-11-03/2017-04-22 containing:\n",
      "  Data: num [1:171, 1:2] -0.1 0.037 0.2857 -0.0278 -0.5143 ...\n",
      " - attr(*, \"dimnames\")=List of 2\n",
      "  ..$ : NULL\n",
      "  ..$ : chr [1:2] \"target\" \"predictor\"\n",
      "  Indexed by objects of class: [Date] TZ: UTC\n",
      "  xts Attributes:  \n",
      "List of 1\n",
      " $ na.action: 'exclude' num 1\n"
     ]
    }
   ],
   "source": [
    "#average visitors\n",
    "ts <- xts(avg_visitors_data[,2], order.by = avg_visitors_data$visit_date) # time series\n",
    "target <- dailyReturn(ts)\n",
    "predictor <- lag(target, k = 1)\n",
    "avg_data <- cbind(target,predictor)\n",
    "colnames(avg_data) <- c('target', 'predictor')\n",
    "avg_data <- na.exclude(avg_data)\n",
    "head(avg_data,3)\n",
    "str(avg_data)"
   ]
  },
  {
   "cell_type": "code",
   "execution_count": 92,
   "metadata": {},
   "outputs": [
    {
     "data": {
      "text/plain": [
       "                target   predictor\n",
       "2016-11-03 -0.10000000  0.00000000\n",
       "2016-11-04  0.03703704 -0.10000000\n",
       "2016-11-05  0.28571429  0.03703704"
      ]
     },
     "metadata": {},
     "output_type": "display_data"
    },
    {
     "data": {
      "text/plain": [
       "               target  predictor\n",
       "2017-03-02 -0.1851852  0.1250000\n",
       "2017-03-03  0.4545455 -0.1851852\n",
       "2017-03-04  0.2500000  0.4545455"
      ]
     },
     "metadata": {},
     "output_type": "display_data"
    }
   ],
   "source": [
    "#average visitors\n",
    "train_data <- window(avg_data, end = '2017-03-01')\n",
    "test_data <- window(avg_data, start = '2017-03-02')\n",
    "\n",
    "head(train_data,3)\n",
    "head(test_data,3)"
   ]
  },
  {
   "cell_type": "markdown",
   "metadata": {},
   "source": [
    "# Decision tree"
   ]
  },
  {
   "cell_type": "code",
   "execution_count": 93,
   "metadata": {},
   "outputs": [],
   "source": [
    "avg_d_tree <- rpart(target ~ predictor, train_data) #average visitors model"
   ]
  },
  {
   "cell_type": "code",
   "execution_count": 94,
   "metadata": {},
   "outputs": [
    {
     "data": {
      "image/png": "[encoded data removed]",
      "text/plain": [
       "plot without title"
      ]
     },
     "metadata": {},
     "output_type": "display_data"
    }
   ],
   "source": [
    "#avg visitors\n",
    "options(repr.plot.width = 7, repr.plot.height = 4.5)\n",
    "rpart.plot(avg_d_tree,extra = 1)"
   ]
  },
  {
   "cell_type": "code",
   "execution_count": 95,
   "metadata": {
    "scrolled": true
   },
   "outputs": [
    {
     "name": "stdout",
     "output_type": "stream",
     "text": [
      "Call:\n",
      "rpart(formula = target ~ predictor, data = train_data)\n",
      "  n= 119 \n",
      "\n",
      "          CP nsplit rel error    xerror      xstd\n",
      "1 0.10318271      0 1.0000000 1.0086312 0.1552718\n",
      "2 0.04866632      2 0.7936346 0.9437847 0.1530680\n",
      "3 0.03016781      3 0.7449682 0.9285473 0.1417213\n",
      "4 0.02995541      4 0.7148004 0.9046057 0.1396684\n",
      "5 0.02882080      5 0.6848450 0.9046057 0.1396684\n",
      "6 0.01000000      7 0.6272034 0.9149270 0.1440258\n",
      "\n",
      "Variable importance\n",
      "predictor \n",
      "      100 \n",
      "\n",
      "Node number 1: 119 observations,    complexity param=0.1031827\n",
      "  mean=0.03655012, MSE=0.07562345 \n",
      "  left son=2 (103 obs) right son=3 (16 obs)\n",
      "  Primary splits:\n",
      "      predictor < -0.3107143  to the right, improve=0.06750184, (0 missing)\n",
      "\n",
      "Node number 2: 103 observations,    complexity param=0.1031827\n",
      "  mean=0.008390454, MSE=0.06676736 \n",
      "  left son=4 (21 obs) right son=5 (82 obs)\n",
      "  Primary splits:\n",
      "      predictor < -0.1081395  to the left,  improve=0.1817149, (0 missing)\n",
      "\n",
      "Node number 3: 16 observations\n",
      "  mean=0.2178279, MSE=0.09466819 \n",
      "\n",
      "Node number 4: 21 observations,    complexity param=0.02995541\n",
      "  mean=-0.2092675, MSE=0.05486931 \n",
      "  left son=8 (14 obs) right son=9 (7 obs)\n",
      "  Primary splits:\n",
      "      predictor < -0.2071078  to the right, improve=0.2339537, (0 missing)\n",
      "\n",
      "Node number 5: 82 observations,    complexity param=0.04866632\n",
      "  mean=0.06413213, MSE=0.05457467 \n",
      "  left son=10 (72 obs) right son=11 (10 obs)\n",
      "  Primary splits:\n",
      "      predictor < -0.03240741 to the right, improve=0.09786492, (0 missing)\n",
      "\n",
      "Node number 8: 14 observations\n",
      "  mean=-0.2893827, MSE=0.02952933 \n",
      "\n",
      "Node number 9: 7 observations\n",
      "  mean=-0.04903719, MSE=0.06703862 \n",
      "\n",
      "Node number 10: 72 observations,    complexity param=0.03016781\n",
      "  mean=0.03689616, MSE=0.0450321 \n",
      "  left son=20 (58 obs) right son=21 (14 obs)\n",
      "  Primary splits:\n",
      "      predictor < 0.3492944   to the left,  improve=0.08373222, (0 missing)\n",
      "\n",
      "Node number 11: 10 observations\n",
      "  mean=0.2602311, MSE=0.07948535 \n",
      "\n",
      "Node number 20: 58 observations,    complexity param=0.0288208\n",
      "  mean=0.006727406, MSE=0.04873376 \n",
      "  left son=40 (38 obs) right son=41 (20 obs)\n",
      "  Primary splits:\n",
      "      predictor < 0.09160839  to the right, improve=0.05216741, (0 missing)\n",
      "\n",
      "Node number 21: 14 observations\n",
      "  mean=0.161881, MSE=0.01030483 \n",
      "\n",
      "Node number 40: 38 observations\n",
      "  mean=-0.0298521, MSE=0.03517519 \n",
      "\n",
      "Node number 41: 20 observations,    complexity param=0.0288208\n",
      "  mean=0.07622846, MSE=0.06712232 \n",
      "  left son=82 (9 obs) right son=83 (11 obs)\n",
      "  Primary splits:\n",
      "      predictor < 0.03167641  to the left,  improve=0.276565, (0 missing)\n",
      "\n",
      "Node number 82: 9 observations\n",
      "  mean=-0.07440004, MSE=0.06019405 \n",
      "\n",
      "Node number 83: 11 observations\n",
      "  mean=0.19947, MSE=0.03903875 \n",
      "\n"
     ]
    }
   ],
   "source": [
    "summary(avg_d_tree)"
   ]
  },
  {
   "cell_type": "code",
   "execution_count": 96,
   "metadata": {},
   "outputs": [
    {
     "name": "stdout",
     "output_type": "stream",
     "text": [
      "Root mean squared error is 0.165"
     ]
    }
   ],
   "source": [
    "# prediction\n",
    "avg_test_pred = predict(avg_d_tree, test_data)\n",
    "sse = sum((avg_test_pred - test_data$target)^2)\n",
    "mse = sse/nrow(train_data)\n",
    "rmse = sqrt(mse)\n",
    "cat('Root mean squared error is',round(rmse,3))"
   ]
  },
  {
   "cell_type": "markdown",
   "metadata": {},
   "source": [
    "# Random forest"
   ]
  },
  {
   "cell_type": "code",
   "execution_count": 101,
   "metadata": {},
   "outputs": [],
   "source": [
    "rf_avg_model <- randomForest(target ~ predictor, train_data, ntree = 500, nodesize = 2, replace = T) #average visitors model"
   ]
  },
  {
   "cell_type": "code",
   "execution_count": 102,
   "metadata": {},
   "outputs": [
    {
     "data": {
      "text/html": [
       "<dl class=dl-horizontal>\n",
       "\t<dt>2016-11-03</dt>\n",
       "\t\t<dd>0.077411066400577</dd>\n",
       "\t<dt>2016-11-04</dt>\n",
       "\t\t<dd>-0.252353916820986</dd>\n",
       "\t<dt>2016-11-05</dt>\n",
       "\t\t<dd>0.216159343744875</dd>\n",
       "\t<dt>2016-11-06</dt>\n",
       "\t\t<dd>-0.0459786346860211</dd>\n",
       "\t<dt>2016-11-07</dt>\n",
       "\t\t<dd>0.450473344687199</dd>\n",
       "\t<dt>2016-11-08</dt>\n",
       "\t\t<dd>0.266070062618258</dd>\n",
       "\t<dt>2016-11-09</dt>\n",
       "\t\t<dd>-0.19643007037996</dd>\n",
       "\t<dt>2016-11-10</dt>\n",
       "\t\t<dd>-0.129542423981554</dd>\n",
       "\t<dt>2016-11-11</dt>\n",
       "\t\t<dd>0.43296046142346</dd>\n",
       "\t<dt>2016-11-12</dt>\n",
       "\t\t<dd>-0.0291942441123203</dd>\n",
       "</dl>\n"
      ],
      "text/latex": [
       "\\begin{description*}\n",
       "\\item[2016-11-03] 0.077411066400577\n",
       "\\item[2016-11-04] -0.252353916820986\n",
       "\\item[2016-11-05] 0.216159343744875\n",
       "\\item[2016-11-06] -0.0459786346860211\n",
       "\\item[2016-11-07] 0.450473344687199\n",
       "\\item[2016-11-08] 0.266070062618258\n",
       "\\item[2016-11-09] -0.19643007037996\n",
       "\\item[2016-11-10] -0.129542423981554\n",
       "\\item[2016-11-11] 0.43296046142346\n",
       "\\item[2016-11-12] -0.0291942441123203\n",
       "\\end{description*}\n"
      ],
      "text/markdown": [
       "2016-11-03\n",
       ":   0.0774110664005772016-11-04\n",
       ":   -0.2523539168209862016-11-05\n",
       ":   0.2161593437448752016-11-06\n",
       ":   -0.04597863468602112016-11-07\n",
       ":   0.4504733446871992016-11-08\n",
       ":   0.2660700626182582016-11-09\n",
       ":   -0.196430070379962016-11-10\n",
       ":   -0.1295424239815542016-11-11\n",
       ":   0.432960461423462016-11-12\n",
       ":   -0.0291942441123203\n",
       "\n"
      ],
      "text/plain": [
       " 2016-11-03  2016-11-04  2016-11-05  2016-11-06  2016-11-07  2016-11-08 \n",
       " 0.07741107 -0.25235392  0.21615934 -0.04597863  0.45047334  0.26607006 \n",
       " 2016-11-09  2016-11-10  2016-11-11  2016-11-12 \n",
       "-0.19643007 -0.12954242  0.43296046 -0.02919424 "
      ]
     },
     "metadata": {},
     "output_type": "display_data"
    }
   ],
   "source": [
    "rf_avg_model$predicted[1:10] # top 10 predicted value from train data"
   ]
  },
  {
   "cell_type": "code",
   "execution_count": 103,
   "metadata": {},
   "outputs": [
    {
     "data": {
      "image/png": "[encoded data removed]",
      "text/plain": [
       "Plot with title \"rf_avg_model\""
      ]
     },
     "metadata": {},
     "output_type": "display_data"
    }
   ],
   "source": [
    "options(repr.plot.width = 5, repr.plot.height = 4.5)\n",
    "plot1 <- plot(rf_avg_model)"
   ]
  },
  {
   "cell_type": "code",
   "execution_count": 104,
   "metadata": {},
   "outputs": [
    {
     "data": {
      "text/html": [
       "<ol class=list-inline>\n",
       "\t<li>0.180581407488539</li>\n",
       "\t<li>0.135636281260707</li>\n",
       "\t<li>0.128190321768595</li>\n",
       "\t<li>0.125591129386966</li>\n",
       "\t<li>0.117331282072351</li>\n",
       "\t<li>0.118743013326027</li>\n",
       "\t<li>0.119708532769102</li>\n",
       "\t<li>0.116104335885168</li>\n",
       "\t<li>0.114919603251264</li>\n",
       "\t<li>0.113883121260436</li>\n",
       "</ol>\n"
      ],
      "text/latex": [
       "\\begin{enumerate*}\n",
       "\\item 0.180581407488539\n",
       "\\item 0.135636281260707\n",
       "\\item 0.128190321768595\n",
       "\\item 0.125591129386966\n",
       "\\item 0.117331282072351\n",
       "\\item 0.118743013326027\n",
       "\\item 0.119708532769102\n",
       "\\item 0.116104335885168\n",
       "\\item 0.114919603251264\n",
       "\\item 0.113883121260436\n",
       "\\end{enumerate*}\n"
      ],
      "text/markdown": [
       "1. 0.180581407488539\n",
       "2. 0.135636281260707\n",
       "3. 0.128190321768595\n",
       "4. 0.125591129386966\n",
       "5. 0.117331282072351\n",
       "6. 0.118743013326027\n",
       "7. 0.119708532769102\n",
       "8. 0.116104335885168\n",
       "9. 0.114919603251264\n",
       "10. 0.113883121260436\n",
       "\n",
       "\n"
      ],
      "text/plain": [
       " [1] 0.1805814 0.1356363 0.1281903 0.1255911 0.1173313 0.1187430 0.1197085\n",
       " [8] 0.1161043 0.1149196 0.1138831"
      ]
     },
     "metadata": {},
     "output_type": "display_data"
    }
   ],
   "source": [
    "rf_avg_model$mse[1:10] # mean squared error of first ten trees"
   ]
  },
  {
   "cell_type": "code",
   "execution_count": 105,
   "metadata": {},
   "outputs": [
    {
     "name": "stdout",
     "output_type": "stream",
     "text": [
      "Root mean squared error is 0.178"
     ]
    }
   ],
   "source": [
    "# average visitors\n",
    "avg_test_pred1 = predict(rf_avg_model, test_data)\n",
    "sse5 = sum((avg_test_pred1 - test_data$target)^2)\n",
    "mse5 = sse5/nrow(train_data)\n",
    "rmse5 = sqrt(mse5)\n",
    "cat('Root mean squared error is', round(rmse5,3))"
   ]
  },
  {
   "cell_type": "code",
   "execution_count": null,
   "metadata": {},
   "outputs": [],
   "source": []
  }
 ],
 "metadata": {
  "kernelspec": {
   "display_name": "R",
   "language": "R",
   "name": "ir"
  },
  "language_info": {
   "codemirror_mode": "r",
   "file_extension": ".r",
   "mimetype": "text/x-r-source",
   "name": "R",
   "pygments_lexer": "r",
   "version": "3.6.1"
  }
 },
 "nbformat": 4,
 "nbformat_minor": 4
}
